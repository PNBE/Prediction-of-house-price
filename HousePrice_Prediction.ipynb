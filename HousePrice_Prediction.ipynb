{
 "cells": [
  {
   "cell_type": "markdown",
   "id": "0152116a",
   "metadata": {},
   "source": [
    "# Data importing and preprocessing"
   ]
  },
  {
   "cell_type": "code",
   "execution_count": 1,
   "id": "4093f6a6",
   "metadata": {},
   "outputs": [],
   "source": [
    "import numpy as np\n",
    "import pandas as pd\n",
    "import matplotlib.pyplot as plt\n",
    "import seaborn as sns\n",
    "import warnings\n",
    "warnings.filterwarnings(\"ignore\")"
   ]
  },
  {
   "cell_type": "code",
   "execution_count": 2,
   "id": "cd092b31",
   "metadata": {},
   "outputs": [],
   "source": [
    "df = pd.read_csv('D:/Python/Python Program/HousePrice_Prediction/House_Price.csv', header = 0)"
   ]
  },
  {
   "cell_type": "code",
   "execution_count": 3,
   "id": "90959e78",
   "metadata": {},
   "outputs": [
    {
     "data": {
      "text/html": [
       "<div>\n",
       "<style scoped>\n",
       "    .dataframe tbody tr th:only-of-type {\n",
       "        vertical-align: middle;\n",
       "    }\n",
       "\n",
       "    .dataframe tbody tr th {\n",
       "        vertical-align: top;\n",
       "    }\n",
       "\n",
       "    .dataframe thead th {\n",
       "        text-align: right;\n",
       "    }\n",
       "</style>\n",
       "<table border=\"1\" class=\"dataframe\">\n",
       "  <thead>\n",
       "    <tr style=\"text-align: right;\">\n",
       "      <th></th>\n",
       "      <th>price</th>\n",
       "      <th>crime_rate</th>\n",
       "      <th>resid_area</th>\n",
       "      <th>air_qual</th>\n",
       "      <th>room_num</th>\n",
       "      <th>age</th>\n",
       "      <th>dist1</th>\n",
       "      <th>dist2</th>\n",
       "      <th>dist3</th>\n",
       "      <th>dist4</th>\n",
       "      <th>teachers</th>\n",
       "      <th>poor_prop</th>\n",
       "      <th>airport</th>\n",
       "      <th>n_hos_beds</th>\n",
       "      <th>n_hot_rooms</th>\n",
       "      <th>waterbody</th>\n",
       "      <th>rainfall</th>\n",
       "      <th>bus_ter</th>\n",
       "      <th>parks</th>\n",
       "    </tr>\n",
       "  </thead>\n",
       "  <tbody>\n",
       "    <tr>\n",
       "      <th>25</th>\n",
       "      <td>13.9</td>\n",
       "      <td>0.84054</td>\n",
       "      <td>38.14</td>\n",
       "      <td>0.5380</td>\n",
       "      <td>5.599</td>\n",
       "      <td>85.7</td>\n",
       "      <td>4.69</td>\n",
       "      <td>4.33</td>\n",
       "      <td>4.72</td>\n",
       "      <td>4.08</td>\n",
       "      <td>19.0</td>\n",
       "      <td>16.51</td>\n",
       "      <td>YES</td>\n",
       "      <td>9.378</td>\n",
       "      <td>13.1112</td>\n",
       "      <td>River</td>\n",
       "      <td>35</td>\n",
       "      <td>YES</td>\n",
       "      <td>0.051585</td>\n",
       "    </tr>\n",
       "    <tr>\n",
       "      <th>358</th>\n",
       "      <td>22.7</td>\n",
       "      <td>5.20177</td>\n",
       "      <td>48.10</td>\n",
       "      <td>0.7700</td>\n",
       "      <td>6.127</td>\n",
       "      <td>83.4</td>\n",
       "      <td>2.96</td>\n",
       "      <td>2.40</td>\n",
       "      <td>2.90</td>\n",
       "      <td>2.63</td>\n",
       "      <td>19.8</td>\n",
       "      <td>11.48</td>\n",
       "      <td>NO</td>\n",
       "      <td>6.354</td>\n",
       "      <td>15.1816</td>\n",
       "      <td>Lake and River</td>\n",
       "      <td>42</td>\n",
       "      <td>YES</td>\n",
       "      <td>0.076655</td>\n",
       "    </tr>\n",
       "    <tr>\n",
       "      <th>282</th>\n",
       "      <td>46.0</td>\n",
       "      <td>0.06129</td>\n",
       "      <td>33.33</td>\n",
       "      <td>0.4429</td>\n",
       "      <td>7.645</td>\n",
       "      <td>49.7</td>\n",
       "      <td>5.46</td>\n",
       "      <td>4.94</td>\n",
       "      <td>5.43</td>\n",
       "      <td>5.01</td>\n",
       "      <td>25.1</td>\n",
       "      <td>3.01</td>\n",
       "      <td>YES</td>\n",
       "      <td>8.720</td>\n",
       "      <td>12.3680</td>\n",
       "      <td>Lake</td>\n",
       "      <td>25</td>\n",
       "      <td>YES</td>\n",
       "      <td>0.051141</td>\n",
       "    </tr>\n",
       "    <tr>\n",
       "      <th>312</th>\n",
       "      <td>19.4</td>\n",
       "      <td>0.26169</td>\n",
       "      <td>39.90</td>\n",
       "      <td>0.5440</td>\n",
       "      <td>6.023</td>\n",
       "      <td>90.4</td>\n",
       "      <td>3.00</td>\n",
       "      <td>2.67</td>\n",
       "      <td>3.15</td>\n",
       "      <td>2.51</td>\n",
       "      <td>21.6</td>\n",
       "      <td>11.72</td>\n",
       "      <td>YES</td>\n",
       "      <td>6.288</td>\n",
       "      <td>13.1552</td>\n",
       "      <td>None</td>\n",
       "      <td>26</td>\n",
       "      <td>YES</td>\n",
       "      <td>0.053473</td>\n",
       "    </tr>\n",
       "    <tr>\n",
       "      <th>192</th>\n",
       "      <td>36.4</td>\n",
       "      <td>0.08664</td>\n",
       "      <td>33.44</td>\n",
       "      <td>0.4370</td>\n",
       "      <td>7.178</td>\n",
       "      <td>26.3</td>\n",
       "      <td>6.76</td>\n",
       "      <td>6.34</td>\n",
       "      <td>6.60</td>\n",
       "      <td>6.21</td>\n",
       "      <td>24.8</td>\n",
       "      <td>2.87</td>\n",
       "      <td>YES</td>\n",
       "      <td>10.528</td>\n",
       "      <td>11.2912</td>\n",
       "      <td>Lake</td>\n",
       "      <td>40</td>\n",
       "      <td>YES</td>\n",
       "      <td>0.044716</td>\n",
       "    </tr>\n",
       "  </tbody>\n",
       "</table>\n",
       "</div>"
      ],
      "text/plain": [
       "     price  crime_rate  resid_area  air_qual  room_num   age  dist1  dist2  \\\n",
       "25    13.9     0.84054       38.14    0.5380     5.599  85.7   4.69   4.33   \n",
       "358   22.7     5.20177       48.10    0.7700     6.127  83.4   2.96   2.40   \n",
       "282   46.0     0.06129       33.33    0.4429     7.645  49.7   5.46   4.94   \n",
       "312   19.4     0.26169       39.90    0.5440     6.023  90.4   3.00   2.67   \n",
       "192   36.4     0.08664       33.44    0.4370     7.178  26.3   6.76   6.34   \n",
       "\n",
       "     dist3  dist4  teachers  poor_prop airport  n_hos_beds  n_hot_rooms  \\\n",
       "25    4.72   4.08      19.0      16.51     YES       9.378      13.1112   \n",
       "358   2.90   2.63      19.8      11.48      NO       6.354      15.1816   \n",
       "282   5.43   5.01      25.1       3.01     YES       8.720      12.3680   \n",
       "312   3.15   2.51      21.6      11.72     YES       6.288      13.1552   \n",
       "192   6.60   6.21      24.8       2.87     YES      10.528      11.2912   \n",
       "\n",
       "          waterbody  rainfall bus_ter     parks  \n",
       "25            River        35     YES  0.051585  \n",
       "358  Lake and River        42     YES  0.076655  \n",
       "282            Lake        25     YES  0.051141  \n",
       "312            None        26     YES  0.053473  \n",
       "192            Lake        40     YES  0.044716  "
      ]
     },
     "execution_count": 3,
     "metadata": {},
     "output_type": "execute_result"
    }
   ],
   "source": [
    "df.sample(5)"
   ]
  },
  {
   "cell_type": "code",
   "execution_count": 4,
   "id": "98fcc14d",
   "metadata": {},
   "outputs": [
    {
     "data": {
      "text/plain": [
       "(506, 19)"
      ]
     },
     "execution_count": 4,
     "metadata": {},
     "output_type": "execute_result"
    }
   ],
   "source": [
    "df.shape"
   ]
  },
  {
   "cell_type": "code",
   "execution_count": 5,
   "id": "47246174",
   "metadata": {},
   "outputs": [
    {
     "data": {
      "text/html": [
       "<div>\n",
       "<style scoped>\n",
       "    .dataframe tbody tr th:only-of-type {\n",
       "        vertical-align: middle;\n",
       "    }\n",
       "\n",
       "    .dataframe tbody tr th {\n",
       "        vertical-align: top;\n",
       "    }\n",
       "\n",
       "    .dataframe thead th {\n",
       "        text-align: right;\n",
       "    }\n",
       "</style>\n",
       "<table border=\"1\" class=\"dataframe\">\n",
       "  <thead>\n",
       "    <tr style=\"text-align: right;\">\n",
       "      <th></th>\n",
       "      <th>price</th>\n",
       "      <th>crime_rate</th>\n",
       "      <th>resid_area</th>\n",
       "      <th>air_qual</th>\n",
       "      <th>room_num</th>\n",
       "      <th>age</th>\n",
       "      <th>dist1</th>\n",
       "      <th>dist2</th>\n",
       "      <th>dist3</th>\n",
       "      <th>dist4</th>\n",
       "      <th>teachers</th>\n",
       "      <th>poor_prop</th>\n",
       "      <th>n_hos_beds</th>\n",
       "      <th>n_hot_rooms</th>\n",
       "      <th>rainfall</th>\n",
       "      <th>parks</th>\n",
       "    </tr>\n",
       "  </thead>\n",
       "  <tbody>\n",
       "    <tr>\n",
       "      <th>count</th>\n",
       "      <td>506.000000</td>\n",
       "      <td>506.000000</td>\n",
       "      <td>506.000000</td>\n",
       "      <td>506.000000</td>\n",
       "      <td>506.000000</td>\n",
       "      <td>506.000000</td>\n",
       "      <td>506.000000</td>\n",
       "      <td>506.000000</td>\n",
       "      <td>506.000000</td>\n",
       "      <td>506.000000</td>\n",
       "      <td>506.000000</td>\n",
       "      <td>506.000000</td>\n",
       "      <td>498.000000</td>\n",
       "      <td>506.000000</td>\n",
       "      <td>506.000000</td>\n",
       "      <td>506.000000</td>\n",
       "    </tr>\n",
       "    <tr>\n",
       "      <th>mean</th>\n",
       "      <td>22.528854</td>\n",
       "      <td>3.613524</td>\n",
       "      <td>41.136779</td>\n",
       "      <td>0.554695</td>\n",
       "      <td>6.284634</td>\n",
       "      <td>68.574901</td>\n",
       "      <td>3.971996</td>\n",
       "      <td>3.628775</td>\n",
       "      <td>3.960672</td>\n",
       "      <td>3.618972</td>\n",
       "      <td>21.544466</td>\n",
       "      <td>12.653063</td>\n",
       "      <td>7.899767</td>\n",
       "      <td>13.041605</td>\n",
       "      <td>39.181818</td>\n",
       "      <td>0.054454</td>\n",
       "    </tr>\n",
       "    <tr>\n",
       "      <th>std</th>\n",
       "      <td>9.182176</td>\n",
       "      <td>8.601545</td>\n",
       "      <td>6.860353</td>\n",
       "      <td>0.115878</td>\n",
       "      <td>0.702617</td>\n",
       "      <td>28.148861</td>\n",
       "      <td>2.108532</td>\n",
       "      <td>2.108580</td>\n",
       "      <td>2.119797</td>\n",
       "      <td>2.099203</td>\n",
       "      <td>2.164946</td>\n",
       "      <td>7.141062</td>\n",
       "      <td>1.476683</td>\n",
       "      <td>5.238957</td>\n",
       "      <td>12.513697</td>\n",
       "      <td>0.010632</td>\n",
       "    </tr>\n",
       "    <tr>\n",
       "      <th>min</th>\n",
       "      <td>5.000000</td>\n",
       "      <td>0.006320</td>\n",
       "      <td>30.460000</td>\n",
       "      <td>0.385000</td>\n",
       "      <td>3.561000</td>\n",
       "      <td>2.900000</td>\n",
       "      <td>1.130000</td>\n",
       "      <td>0.920000</td>\n",
       "      <td>1.150000</td>\n",
       "      <td>0.730000</td>\n",
       "      <td>18.000000</td>\n",
       "      <td>1.730000</td>\n",
       "      <td>5.268000</td>\n",
       "      <td>10.057600</td>\n",
       "      <td>3.000000</td>\n",
       "      <td>0.033292</td>\n",
       "    </tr>\n",
       "    <tr>\n",
       "      <th>25%</th>\n",
       "      <td>17.025000</td>\n",
       "      <td>0.082045</td>\n",
       "      <td>35.190000</td>\n",
       "      <td>0.449000</td>\n",
       "      <td>5.885500</td>\n",
       "      <td>45.025000</td>\n",
       "      <td>2.270000</td>\n",
       "      <td>1.940000</td>\n",
       "      <td>2.232500</td>\n",
       "      <td>1.940000</td>\n",
       "      <td>19.800000</td>\n",
       "      <td>6.950000</td>\n",
       "      <td>6.634500</td>\n",
       "      <td>11.189800</td>\n",
       "      <td>28.000000</td>\n",
       "      <td>0.046464</td>\n",
       "    </tr>\n",
       "    <tr>\n",
       "      <th>50%</th>\n",
       "      <td>21.200000</td>\n",
       "      <td>0.256510</td>\n",
       "      <td>39.690000</td>\n",
       "      <td>0.538000</td>\n",
       "      <td>6.208500</td>\n",
       "      <td>77.500000</td>\n",
       "      <td>3.385000</td>\n",
       "      <td>3.010000</td>\n",
       "      <td>3.375000</td>\n",
       "      <td>3.070000</td>\n",
       "      <td>20.950000</td>\n",
       "      <td>11.360000</td>\n",
       "      <td>7.999000</td>\n",
       "      <td>12.720000</td>\n",
       "      <td>39.000000</td>\n",
       "      <td>0.053507</td>\n",
       "    </tr>\n",
       "    <tr>\n",
       "      <th>75%</th>\n",
       "      <td>25.000000</td>\n",
       "      <td>3.677083</td>\n",
       "      <td>48.100000</td>\n",
       "      <td>0.624000</td>\n",
       "      <td>6.623500</td>\n",
       "      <td>94.075000</td>\n",
       "      <td>5.367500</td>\n",
       "      <td>4.992500</td>\n",
       "      <td>5.407500</td>\n",
       "      <td>4.985000</td>\n",
       "      <td>22.600000</td>\n",
       "      <td>16.955000</td>\n",
       "      <td>9.088000</td>\n",
       "      <td>14.170800</td>\n",
       "      <td>50.000000</td>\n",
       "      <td>0.061397</td>\n",
       "    </tr>\n",
       "    <tr>\n",
       "      <th>max</th>\n",
       "      <td>50.000000</td>\n",
       "      <td>88.976200</td>\n",
       "      <td>57.740000</td>\n",
       "      <td>0.871000</td>\n",
       "      <td>8.780000</td>\n",
       "      <td>100.000000</td>\n",
       "      <td>12.320000</td>\n",
       "      <td>11.930000</td>\n",
       "      <td>12.320000</td>\n",
       "      <td>11.940000</td>\n",
       "      <td>27.400000</td>\n",
       "      <td>37.970000</td>\n",
       "      <td>10.876000</td>\n",
       "      <td>101.120000</td>\n",
       "      <td>60.000000</td>\n",
       "      <td>0.086711</td>\n",
       "    </tr>\n",
       "  </tbody>\n",
       "</table>\n",
       "</div>"
      ],
      "text/plain": [
       "            price  crime_rate  resid_area    air_qual    room_num         age  \\\n",
       "count  506.000000  506.000000  506.000000  506.000000  506.000000  506.000000   \n",
       "mean    22.528854    3.613524   41.136779    0.554695    6.284634   68.574901   \n",
       "std      9.182176    8.601545    6.860353    0.115878    0.702617   28.148861   \n",
       "min      5.000000    0.006320   30.460000    0.385000    3.561000    2.900000   \n",
       "25%     17.025000    0.082045   35.190000    0.449000    5.885500   45.025000   \n",
       "50%     21.200000    0.256510   39.690000    0.538000    6.208500   77.500000   \n",
       "75%     25.000000    3.677083   48.100000    0.624000    6.623500   94.075000   \n",
       "max     50.000000   88.976200   57.740000    0.871000    8.780000  100.000000   \n",
       "\n",
       "            dist1       dist2       dist3       dist4    teachers   poor_prop  \\\n",
       "count  506.000000  506.000000  506.000000  506.000000  506.000000  506.000000   \n",
       "mean     3.971996    3.628775    3.960672    3.618972   21.544466   12.653063   \n",
       "std      2.108532    2.108580    2.119797    2.099203    2.164946    7.141062   \n",
       "min      1.130000    0.920000    1.150000    0.730000   18.000000    1.730000   \n",
       "25%      2.270000    1.940000    2.232500    1.940000   19.800000    6.950000   \n",
       "50%      3.385000    3.010000    3.375000    3.070000   20.950000   11.360000   \n",
       "75%      5.367500    4.992500    5.407500    4.985000   22.600000   16.955000   \n",
       "max     12.320000   11.930000   12.320000   11.940000   27.400000   37.970000   \n",
       "\n",
       "       n_hos_beds  n_hot_rooms    rainfall       parks  \n",
       "count  498.000000   506.000000  506.000000  506.000000  \n",
       "mean     7.899767    13.041605   39.181818    0.054454  \n",
       "std      1.476683     5.238957   12.513697    0.010632  \n",
       "min      5.268000    10.057600    3.000000    0.033292  \n",
       "25%      6.634500    11.189800   28.000000    0.046464  \n",
       "50%      7.999000    12.720000   39.000000    0.053507  \n",
       "75%      9.088000    14.170800   50.000000    0.061397  \n",
       "max     10.876000   101.120000   60.000000    0.086711  "
      ]
     },
     "execution_count": 5,
     "metadata": {},
     "output_type": "execute_result"
    }
   ],
   "source": [
    "df.describe()"
   ]
  },
  {
   "cell_type": "markdown",
   "id": "a6a5837d",
   "metadata": {},
   "source": [
    "## Outlier Detection"
   ]
  },
  {
   "cell_type": "code",
   "execution_count": 6,
   "id": "d112dad0",
   "metadata": {},
   "outputs": [
    {
     "data": {
      "text/plain": [
       "<AxesSubplot:xlabel='crime_rate'>"
      ]
     },
     "execution_count": 6,
     "metadata": {},
     "output_type": "execute_result"
    },
    {
     "data": {
      "image/png": "[encoded data removed]",
      "text/plain": [
       "<Figure size 432x288 with 1 Axes>"
      ]
     },
     "metadata": {
      "needs_background": "light"
     },
     "output_type": "display_data"
    }
   ],
   "source": [
    "sns.boxplot(x = df['crime_rate'])"
   ]
  },
  {
   "cell_type": "code",
   "execution_count": 7,
   "id": "cd30a4a8",
   "metadata": {},
   "outputs": [
    {
     "data": {
      "text/plain": [
       "<function matplotlib.pyplot.show(close=None, block=None)>"
      ]
     },
     "execution_count": 7,
     "metadata": {},
     "output_type": "execute_result"
    },
    {
     "data": {
      "image/png": "[encoded data removed]",
      "text/plain": [
       "<Figure size 432x288 with 1 Axes>"
      ]
     },
     "metadata": {
      "needs_background": "light"
     },
     "output_type": "display_data"
    }
   ],
   "source": [
    "sns.distplot(df['crime_rate'])\n",
    "plt.show"
   ]
  },
  {
   "cell_type": "code",
   "execution_count": 8,
   "id": "a3ba68b6",
   "metadata": {},
   "outputs": [
    {
     "data": {
      "text/plain": [
       "<seaborn.axisgrid.JointGrid at 0x263975a8580>"
      ]
     },
     "execution_count": 8,
     "metadata": {},
     "output_type": "execute_result"
    },
    {
     "data": {
      "image/png": "[encoded data removed]",
      "text/plain": [
       "<Figure size 432x432 with 3 Axes>"
      ]
     },
     "metadata": {
      "needs_background": "light"
     },
     "output_type": "display_data"
    }
   ],
   "source": [
    "sns.jointplot(x = 'crime_rate', y = 'price', data = df)"
   ]
  },
  {
   "cell_type": "code",
   "execution_count": 9,
   "id": "75334989",
   "metadata": {},
   "outputs": [
    {
     "data": {
      "text/plain": [
       "<AxesSubplot:xlabel='age'>"
      ]
     },
     "execution_count": 9,
     "metadata": {},
     "output_type": "execute_result"
    },
    {
     "data": {
      "image/png": "[encoded data removed]",
      "text/plain": [
       "<Figure size 432x288 with 1 Axes>"
      ]
     },
     "metadata": {
      "needs_background": "light"
     },
     "output_type": "display_data"
    }
   ],
   "source": [
    "sns.boxplot(x = df['age'])"
   ]
  },
  {
   "cell_type": "code",
   "execution_count": 10,
   "id": "51849d54",
   "metadata": {},
   "outputs": [
    {
     "data": {
      "text/plain": [
       "<function matplotlib.pyplot.show(close=None, block=None)>"
      ]
     },
     "execution_count": 10,
     "metadata": {},
     "output_type": "execute_result"
    },
    {
     "data": {
      "image/png": "[encoded data removed]",
      "text/plain": [
       "<Figure size 432x288 with 1 Axes>"
      ]
     },
     "metadata": {
      "needs_background": "light"
     },
     "output_type": "display_data"
    }
   ],
   "source": [
    "sns.distplot(df['age'])\n",
    "plt.show"
   ]
  },
  {
   "cell_type": "code",
   "execution_count": 11,
   "id": "c8af904c",
   "metadata": {},
   "outputs": [
    {
     "data": {
      "text/plain": [
       "<seaborn.axisgrid.JointGrid at 0x263997da560>"
      ]
     },
     "execution_count": 11,
     "metadata": {},
     "output_type": "execute_result"
    },
    {
     "data": {
      "image/png": "[encoded data removed]",
      "text/plain": [
       "<Figure size 432x432 with 3 Axes>"
      ]
     },
     "metadata": {
      "needs_background": "light"
     },
     "output_type": "display_data"
    }
   ],
   "source": [
    "sns.jointplot(x = 'age', y = 'price', data = df)"
   ]
  },
  {
   "cell_type": "code",
   "execution_count": 12,
   "id": "9ed4b7d4",
   "metadata": {},
   "outputs": [
    {
     "data": {
      "text/plain": [
       "<AxesSubplot:xlabel='n_hot_rooms'>"
      ]
     },
     "execution_count": 12,
     "metadata": {},
     "output_type": "execute_result"
    },
    {
     "data": {
      "image/png": "[encoded data removed]",
      "text/plain": [
       "<Figure size 432x288 with 1 Axes>"
      ]
     },
     "metadata": {
      "needs_background": "light"
     },
     "output_type": "display_data"
    }
   ],
   "source": [
    "sns.boxplot(x = df['n_hot_rooms'])"
   ]
  },
  {
   "cell_type": "code",
   "execution_count": 13,
   "id": "df16a181",
   "metadata": {},
   "outputs": [
    {
     "data": {
      "text/plain": [
       "<function matplotlib.pyplot.show(close=None, block=None)>"
      ]
     },
     "execution_count": 13,
     "metadata": {},
     "output_type": "execute_result"
    },
    {
     "data": {
      "image/png": "[encoded data removed]",
      "text/plain": [
       "<Figure size 432x288 with 1 Axes>"
      ]
     },
     "metadata": {
      "needs_background": "light"
     },
     "output_type": "display_data"
    }
   ],
   "source": [
    "sns.distplot(df['n_hot_rooms'])\n",
    "plt.show"
   ]
  },
  {
   "cell_type": "code",
   "execution_count": 14,
   "id": "50984b4e",
   "metadata": {},
   "outputs": [
    {
     "data": {
      "text/plain": [
       "<seaborn.axisgrid.JointGrid at 0x26399a21420>"
      ]
     },
     "execution_count": 14,
     "metadata": {},
     "output_type": "execute_result"
    },
    {
     "data": {
      "image/png": "[encoded data removed]",
      "text/plain": [
       "<Figure size 432x432 with 3 Axes>"
      ]
     },
     "metadata": {
      "needs_background": "light"
     },
     "output_type": "display_data"
    }
   ],
   "source": [
    "sns.jointplot(x = 'n_hot_rooms', y = 'price', data = df)"
   ]
  },
  {
   "cell_type": "code",
   "execution_count": 15,
   "id": "c1e0bece",
   "metadata": {},
   "outputs": [
    {
     "data": {
      "text/plain": [
       "<AxesSubplot:xlabel='rainfall'>"
      ]
     },
     "execution_count": 15,
     "metadata": {},
     "output_type": "execute_result"
    },
    {
     "data": {
      "image/png": "[encoded data removed]",
      "text/plain": [
       "<Figure size 432x288 with 1 Axes>"
      ]
     },
     "metadata": {
      "needs_background": "light"
     },
     "output_type": "display_data"
    }
   ],
   "source": [
    "sns.boxplot(x = df['rainfall'])"
   ]
  },
  {
   "cell_type": "code",
   "execution_count": 16,
   "id": "b0b2fb04",
   "metadata": {},
   "outputs": [
    {
     "data": {
      "text/plain": [
       "<function matplotlib.pyplot.show(close=None, block=None)>"
      ]
     },
     "execution_count": 16,
     "metadata": {},
     "output_type": "execute_result"
    },
    {
     "data": {
      "image/png": "[encoded data removed]",
      "text/plain": [
       "<Figure size 432x288 with 1 Axes>"
      ]
     },
     "metadata": {
      "needs_background": "light"
     },
     "output_type": "display_data"
    }
   ],
   "source": [
    "sns.distplot(df['rainfall'])\n",
    "plt.show"
   ]
  },
  {
   "cell_type": "code",
   "execution_count": 17,
   "id": "98232cde",
   "metadata": {},
   "outputs": [
    {
     "data": {
      "text/plain": [
       "<seaborn.axisgrid.JointGrid at 0x263997afee0>"
      ]
     },
     "execution_count": 17,
     "metadata": {},
     "output_type": "execute_result"
    },
    {
     "data": {
      "image/png": "[encoded data removed]",
      "text/plain": [
       "<Figure size 432x432 with 3 Axes>"
      ]
     },
     "metadata": {
      "needs_background": "light"
     },
     "output_type": "display_data"
    }
   ],
   "source": [
    "sns.jointplot(x = 'rainfall', y = 'price', data = df)"
   ]
  },
  {
   "cell_type": "markdown",
   "id": "48cae16d",
   "metadata": {},
   "source": [
    "## Categorical variable visualisation"
   ]
  },
  {
   "cell_type": "code",
   "execution_count": 18,
   "id": "235b0713",
   "metadata": {},
   "outputs": [
    {
     "data": {
      "text/plain": [
       "<AxesSubplot:xlabel='airport', ylabel='count'>"
      ]
     },
     "execution_count": 18,
     "metadata": {},
     "output_type": "execute_result"
    },
    {
     "data": {
      "image/png": "[encoded data removed]",
      "text/plain": [
       "<Figure size 432x288 with 1 Axes>"
      ]
     },
     "metadata": {
      "needs_background": "light"
     },
     "output_type": "display_data"
    }
   ],
   "source": [
    "sns.countplot(x = 'airport', data = df)"
   ]
  },
  {
   "cell_type": "code",
   "execution_count": 19,
   "id": "7eec7513",
   "metadata": {},
   "outputs": [
    {
     "data": {
      "text/plain": [
       "<AxesSubplot:xlabel='waterbody', ylabel='count'>"
      ]
     },
     "execution_count": 19,
     "metadata": {},
     "output_type": "execute_result"
    },
    {
     "data": {
      "image/png": "[encoded data removed]",
      "text/plain": [
       "<Figure size 432x288 with 1 Axes>"
      ]
     },
     "metadata": {
      "needs_background": "light"
     },
     "output_type": "display_data"
    }
   ],
   "source": [
    "sns.countplot(x = 'waterbody', data = df)"
   ]
  },
  {
   "cell_type": "code",
   "execution_count": 20,
   "id": "2af1849e",
   "metadata": {},
   "outputs": [
    {
     "data": {
      "text/plain": [
       "<AxesSubplot:xlabel='bus_ter', ylabel='count'>"
      ]
     },
     "execution_count": 20,
     "metadata": {},
     "output_type": "execute_result"
    },
    {
     "data": {
      "image/png": "[encoded data removed]",
      "text/plain": [
       "<Figure size 432x288 with 1 Axes>"
      ]
     },
     "metadata": {
      "needs_background": "light"
     },
     "output_type": "display_data"
    }
   ],
   "source": [
    "sns.countplot(x = 'bus_ter', data = df)"
   ]
  },
  {
   "cell_type": "markdown",
   "id": "79003fd9",
   "metadata": {},
   "source": [
    "## Observations"
   ]
  },
  {
   "cell_type": "markdown",
   "id": "ca1143ef",
   "metadata": {},
   "source": [
    "1. Missing values in n_hos_beds\n",
    "2. Skewness and outliers in crime rate\n",
    "3. Non-linear relationship between price and crime rate (so outliers of crime rate can be treated by transformation from non    linear to linear)\n",
    "4. Skewness in age\n",
    "5. Skewness and outliers in n_hot_rooms\n",
    "6. Skewness and outliers in rainfall\n",
    "7. Bus_ter has only 'Yes' values"
   ]
  },
  {
   "cell_type": "markdown",
   "id": "0b422a1e",
   "metadata": {},
   "source": [
    "## Outlier Treatment"
   ]
  },
  {
   "cell_type": "code",
   "execution_count": 21,
   "id": "e32c7ef9",
   "metadata": {},
   "outputs": [
    {
     "data": {
      "text/plain": [
       "array([15.39952])"
      ]
     },
     "execution_count": 21,
     "metadata": {},
     "output_type": "execute_result"
    }
   ],
   "source": [
    "np.percentile(df.n_hot_rooms,[99])"
   ]
  },
  {
   "cell_type": "code",
   "execution_count": 22,
   "id": "d4602327",
   "metadata": {},
   "outputs": [
    {
     "data": {
      "text/plain": [
       "15.39952"
      ]
     },
     "execution_count": 22,
     "metadata": {},
     "output_type": "execute_result"
    }
   ],
   "source": [
    "np.percentile(df.n_hot_rooms,[99])[0]"
   ]
  },
  {
   "cell_type": "code",
   "execution_count": 23,
   "id": "15acf28d",
   "metadata": {},
   "outputs": [],
   "source": [
    "uv = np.percentile(df.n_hot_rooms,[99])[0]"
   ]
  },
  {
   "cell_type": "code",
   "execution_count": 24,
   "id": "b8398ad1",
   "metadata": {},
   "outputs": [
    {
     "data": {
      "text/html": [
       "<div>\n",
       "<style scoped>\n",
       "    .dataframe tbody tr th:only-of-type {\n",
       "        vertical-align: middle;\n",
       "    }\n",
       "\n",
       "    .dataframe tbody tr th {\n",
       "        vertical-align: top;\n",
       "    }\n",
       "\n",
       "    .dataframe thead th {\n",
       "        text-align: right;\n",
       "    }\n",
       "</style>\n",
       "<table border=\"1\" class=\"dataframe\">\n",
       "  <thead>\n",
       "    <tr style=\"text-align: right;\">\n",
       "      <th></th>\n",
       "      <th>price</th>\n",
       "      <th>crime_rate</th>\n",
       "      <th>resid_area</th>\n",
       "      <th>air_qual</th>\n",
       "      <th>room_num</th>\n",
       "      <th>age</th>\n",
       "      <th>dist1</th>\n",
       "      <th>dist2</th>\n",
       "      <th>dist3</th>\n",
       "      <th>dist4</th>\n",
       "      <th>teachers</th>\n",
       "      <th>poor_prop</th>\n",
       "      <th>airport</th>\n",
       "      <th>n_hos_beds</th>\n",
       "      <th>n_hot_rooms</th>\n",
       "      <th>waterbody</th>\n",
       "      <th>rainfall</th>\n",
       "      <th>bus_ter</th>\n",
       "      <th>parks</th>\n",
       "    </tr>\n",
       "  </thead>\n",
       "  <tbody>\n",
       "    <tr>\n",
       "      <th>2</th>\n",
       "      <td>34.7</td>\n",
       "      <td>0.02729</td>\n",
       "      <td>37.07</td>\n",
       "      <td>0.4690</td>\n",
       "      <td>7.185</td>\n",
       "      <td>61.1</td>\n",
       "      <td>5.03</td>\n",
       "      <td>4.86</td>\n",
       "      <td>5.01</td>\n",
       "      <td>4.97</td>\n",
       "      <td>22.2</td>\n",
       "      <td>4.03</td>\n",
       "      <td>NO</td>\n",
       "      <td>7.394</td>\n",
       "      <td>101.12</td>\n",
       "      <td>None</td>\n",
       "      <td>38</td>\n",
       "      <td>YES</td>\n",
       "      <td>0.045764</td>\n",
       "    </tr>\n",
       "    <tr>\n",
       "      <th>166</th>\n",
       "      <td>50.0</td>\n",
       "      <td>2.01019</td>\n",
       "      <td>49.58</td>\n",
       "      <td>0.6050</td>\n",
       "      <td>7.929</td>\n",
       "      <td>96.2</td>\n",
       "      <td>2.11</td>\n",
       "      <td>1.91</td>\n",
       "      <td>2.31</td>\n",
       "      <td>1.86</td>\n",
       "      <td>25.3</td>\n",
       "      <td>3.70</td>\n",
       "      <td>YES</td>\n",
       "      <td>8.300</td>\n",
       "      <td>15.40</td>\n",
       "      <td>River</td>\n",
       "      <td>37</td>\n",
       "      <td>YES</td>\n",
       "      <td>0.052105</td>\n",
       "    </tr>\n",
       "    <tr>\n",
       "      <th>204</th>\n",
       "      <td>50.0</td>\n",
       "      <td>0.02009</td>\n",
       "      <td>32.68</td>\n",
       "      <td>0.4161</td>\n",
       "      <td>8.034</td>\n",
       "      <td>31.9</td>\n",
       "      <td>5.41</td>\n",
       "      <td>4.80</td>\n",
       "      <td>5.28</td>\n",
       "      <td>4.99</td>\n",
       "      <td>25.3</td>\n",
       "      <td>2.88</td>\n",
       "      <td>YES</td>\n",
       "      <td>8.900</td>\n",
       "      <td>15.40</td>\n",
       "      <td>River</td>\n",
       "      <td>51</td>\n",
       "      <td>YES</td>\n",
       "      <td>0.044178</td>\n",
       "    </tr>\n",
       "    <tr>\n",
       "      <th>267</th>\n",
       "      <td>50.0</td>\n",
       "      <td>0.57834</td>\n",
       "      <td>33.97</td>\n",
       "      <td>0.5750</td>\n",
       "      <td>8.297</td>\n",
       "      <td>67.0</td>\n",
       "      <td>2.60</td>\n",
       "      <td>2.13</td>\n",
       "      <td>2.43</td>\n",
       "      <td>2.52</td>\n",
       "      <td>27.0</td>\n",
       "      <td>7.44</td>\n",
       "      <td>YES</td>\n",
       "      <td>8.000</td>\n",
       "      <td>15.40</td>\n",
       "      <td>None</td>\n",
       "      <td>42</td>\n",
       "      <td>YES</td>\n",
       "      <td>0.063235</td>\n",
       "    </tr>\n",
       "    <tr>\n",
       "      <th>369</th>\n",
       "      <td>50.0</td>\n",
       "      <td>5.66998</td>\n",
       "      <td>48.10</td>\n",
       "      <td>0.6310</td>\n",
       "      <td>6.683</td>\n",
       "      <td>96.8</td>\n",
       "      <td>1.55</td>\n",
       "      <td>1.28</td>\n",
       "      <td>1.65</td>\n",
       "      <td>0.94</td>\n",
       "      <td>19.8</td>\n",
       "      <td>3.73</td>\n",
       "      <td>YES</td>\n",
       "      <td>6.700</td>\n",
       "      <td>15.40</td>\n",
       "      <td>River</td>\n",
       "      <td>58</td>\n",
       "      <td>YES</td>\n",
       "      <td>0.067477</td>\n",
       "    </tr>\n",
       "    <tr>\n",
       "      <th>423</th>\n",
       "      <td>13.4</td>\n",
       "      <td>7.05042</td>\n",
       "      <td>48.10</td>\n",
       "      <td>0.6140</td>\n",
       "      <td>6.103</td>\n",
       "      <td>85.1</td>\n",
       "      <td>2.08</td>\n",
       "      <td>1.80</td>\n",
       "      <td>2.34</td>\n",
       "      <td>1.87</td>\n",
       "      <td>19.8</td>\n",
       "      <td>23.29</td>\n",
       "      <td>NO</td>\n",
       "      <td>8.268</td>\n",
       "      <td>81.12</td>\n",
       "      <td>Lake</td>\n",
       "      <td>29</td>\n",
       "      <td>YES</td>\n",
       "      <td>0.063344</td>\n",
       "    </tr>\n",
       "  </tbody>\n",
       "</table>\n",
       "</div>"
      ],
      "text/plain": [
       "     price  crime_rate  resid_area  air_qual  room_num   age  dist1  dist2  \\\n",
       "2     34.7     0.02729       37.07    0.4690     7.185  61.1   5.03   4.86   \n",
       "166   50.0     2.01019       49.58    0.6050     7.929  96.2   2.11   1.91   \n",
       "204   50.0     0.02009       32.68    0.4161     8.034  31.9   5.41   4.80   \n",
       "267   50.0     0.57834       33.97    0.5750     8.297  67.0   2.60   2.13   \n",
       "369   50.0     5.66998       48.10    0.6310     6.683  96.8   1.55   1.28   \n",
       "423   13.4     7.05042       48.10    0.6140     6.103  85.1   2.08   1.80   \n",
       "\n",
       "     dist3  dist4  teachers  poor_prop airport  n_hos_beds  n_hot_rooms  \\\n",
       "2     5.01   4.97      22.2       4.03      NO       7.394       101.12   \n",
       "166   2.31   1.86      25.3       3.70     YES       8.300        15.40   \n",
       "204   5.28   4.99      25.3       2.88     YES       8.900        15.40   \n",
       "267   2.43   2.52      27.0       7.44     YES       8.000        15.40   \n",
       "369   1.65   0.94      19.8       3.73     YES       6.700        15.40   \n",
       "423   2.34   1.87      19.8      23.29      NO       8.268        81.12   \n",
       "\n",
       "    waterbody  rainfall bus_ter     parks  \n",
       "2        None        38     YES  0.045764  \n",
       "166     River        37     YES  0.052105  \n",
       "204     River        51     YES  0.044178  \n",
       "267      None        42     YES  0.063235  \n",
       "369     River        58     YES  0.067477  \n",
       "423      Lake        29     YES  0.063344  "
      ]
     },
     "execution_count": 24,
     "metadata": {},
     "output_type": "execute_result"
    }
   ],
   "source": [
    "df[(df.n_hot_rooms > uv)]"
   ]
  },
  {
   "cell_type": "code",
   "execution_count": 25,
   "id": "69142d49",
   "metadata": {},
   "outputs": [],
   "source": [
    "df.n_hot_rooms[(df.n_hot_rooms > 3*uv)] = 3*uv"
   ]
  },
  {
   "cell_type": "code",
   "execution_count": 26,
   "id": "89b19b86",
   "metadata": {},
   "outputs": [
    {
     "data": {
      "text/html": [
       "<div>\n",
       "<style scoped>\n",
       "    .dataframe tbody tr th:only-of-type {\n",
       "        vertical-align: middle;\n",
       "    }\n",
       "\n",
       "    .dataframe tbody tr th {\n",
       "        vertical-align: top;\n",
       "    }\n",
       "\n",
       "    .dataframe thead th {\n",
       "        text-align: right;\n",
       "    }\n",
       "</style>\n",
       "<table border=\"1\" class=\"dataframe\">\n",
       "  <thead>\n",
       "    <tr style=\"text-align: right;\">\n",
       "      <th></th>\n",
       "      <th>price</th>\n",
       "      <th>crime_rate</th>\n",
       "      <th>resid_area</th>\n",
       "      <th>air_qual</th>\n",
       "      <th>room_num</th>\n",
       "      <th>age</th>\n",
       "      <th>dist1</th>\n",
       "      <th>dist2</th>\n",
       "      <th>dist3</th>\n",
       "      <th>dist4</th>\n",
       "      <th>teachers</th>\n",
       "      <th>poor_prop</th>\n",
       "      <th>airport</th>\n",
       "      <th>n_hos_beds</th>\n",
       "      <th>n_hot_rooms</th>\n",
       "      <th>waterbody</th>\n",
       "      <th>rainfall</th>\n",
       "      <th>bus_ter</th>\n",
       "      <th>parks</th>\n",
       "    </tr>\n",
       "  </thead>\n",
       "  <tbody>\n",
       "    <tr>\n",
       "      <th>2</th>\n",
       "      <td>34.7</td>\n",
       "      <td>0.02729</td>\n",
       "      <td>37.07</td>\n",
       "      <td>0.4690</td>\n",
       "      <td>7.185</td>\n",
       "      <td>61.1</td>\n",
       "      <td>5.03</td>\n",
       "      <td>4.86</td>\n",
       "      <td>5.01</td>\n",
       "      <td>4.97</td>\n",
       "      <td>22.2</td>\n",
       "      <td>4.03</td>\n",
       "      <td>NO</td>\n",
       "      <td>7.394</td>\n",
       "      <td>46.19856</td>\n",
       "      <td>None</td>\n",
       "      <td>38</td>\n",
       "      <td>YES</td>\n",
       "      <td>0.045764</td>\n",
       "    </tr>\n",
       "    <tr>\n",
       "      <th>166</th>\n",
       "      <td>50.0</td>\n",
       "      <td>2.01019</td>\n",
       "      <td>49.58</td>\n",
       "      <td>0.6050</td>\n",
       "      <td>7.929</td>\n",
       "      <td>96.2</td>\n",
       "      <td>2.11</td>\n",
       "      <td>1.91</td>\n",
       "      <td>2.31</td>\n",
       "      <td>1.86</td>\n",
       "      <td>25.3</td>\n",
       "      <td>3.70</td>\n",
       "      <td>YES</td>\n",
       "      <td>8.300</td>\n",
       "      <td>15.40000</td>\n",
       "      <td>River</td>\n",
       "      <td>37</td>\n",
       "      <td>YES</td>\n",
       "      <td>0.052105</td>\n",
       "    </tr>\n",
       "    <tr>\n",
       "      <th>204</th>\n",
       "      <td>50.0</td>\n",
       "      <td>0.02009</td>\n",
       "      <td>32.68</td>\n",
       "      <td>0.4161</td>\n",
       "      <td>8.034</td>\n",
       "      <td>31.9</td>\n",
       "      <td>5.41</td>\n",
       "      <td>4.80</td>\n",
       "      <td>5.28</td>\n",
       "      <td>4.99</td>\n",
       "      <td>25.3</td>\n",
       "      <td>2.88</td>\n",
       "      <td>YES</td>\n",
       "      <td>8.900</td>\n",
       "      <td>15.40000</td>\n",
       "      <td>River</td>\n",
       "      <td>51</td>\n",
       "      <td>YES</td>\n",
       "      <td>0.044178</td>\n",
       "    </tr>\n",
       "    <tr>\n",
       "      <th>267</th>\n",
       "      <td>50.0</td>\n",
       "      <td>0.57834</td>\n",
       "      <td>33.97</td>\n",
       "      <td>0.5750</td>\n",
       "      <td>8.297</td>\n",
       "      <td>67.0</td>\n",
       "      <td>2.60</td>\n",
       "      <td>2.13</td>\n",
       "      <td>2.43</td>\n",
       "      <td>2.52</td>\n",
       "      <td>27.0</td>\n",
       "      <td>7.44</td>\n",
       "      <td>YES</td>\n",
       "      <td>8.000</td>\n",
       "      <td>15.40000</td>\n",
       "      <td>None</td>\n",
       "      <td>42</td>\n",
       "      <td>YES</td>\n",
       "      <td>0.063235</td>\n",
       "    </tr>\n",
       "    <tr>\n",
       "      <th>369</th>\n",
       "      <td>50.0</td>\n",
       "      <td>5.66998</td>\n",
       "      <td>48.10</td>\n",
       "      <td>0.6310</td>\n",
       "      <td>6.683</td>\n",
       "      <td>96.8</td>\n",
       "      <td>1.55</td>\n",
       "      <td>1.28</td>\n",
       "      <td>1.65</td>\n",
       "      <td>0.94</td>\n",
       "      <td>19.8</td>\n",
       "      <td>3.73</td>\n",
       "      <td>YES</td>\n",
       "      <td>6.700</td>\n",
       "      <td>15.40000</td>\n",
       "      <td>River</td>\n",
       "      <td>58</td>\n",
       "      <td>YES</td>\n",
       "      <td>0.067477</td>\n",
       "    </tr>\n",
       "    <tr>\n",
       "      <th>423</th>\n",
       "      <td>13.4</td>\n",
       "      <td>7.05042</td>\n",
       "      <td>48.10</td>\n",
       "      <td>0.6140</td>\n",
       "      <td>6.103</td>\n",
       "      <td>85.1</td>\n",
       "      <td>2.08</td>\n",
       "      <td>1.80</td>\n",
       "      <td>2.34</td>\n",
       "      <td>1.87</td>\n",
       "      <td>19.8</td>\n",
       "      <td>23.29</td>\n",
       "      <td>NO</td>\n",
       "      <td>8.268</td>\n",
       "      <td>46.19856</td>\n",
       "      <td>Lake</td>\n",
       "      <td>29</td>\n",
       "      <td>YES</td>\n",
       "      <td>0.063344</td>\n",
       "    </tr>\n",
       "  </tbody>\n",
       "</table>\n",
       "</div>"
      ],
      "text/plain": [
       "     price  crime_rate  resid_area  air_qual  room_num   age  dist1  dist2  \\\n",
       "2     34.7     0.02729       37.07    0.4690     7.185  61.1   5.03   4.86   \n",
       "166   50.0     2.01019       49.58    0.6050     7.929  96.2   2.11   1.91   \n",
       "204   50.0     0.02009       32.68    0.4161     8.034  31.9   5.41   4.80   \n",
       "267   50.0     0.57834       33.97    0.5750     8.297  67.0   2.60   2.13   \n",
       "369   50.0     5.66998       48.10    0.6310     6.683  96.8   1.55   1.28   \n",
       "423   13.4     7.05042       48.10    0.6140     6.103  85.1   2.08   1.80   \n",
       "\n",
       "     dist3  dist4  teachers  poor_prop airport  n_hos_beds  n_hot_rooms  \\\n",
       "2     5.01   4.97      22.2       4.03      NO       7.394     46.19856   \n",
       "166   2.31   1.86      25.3       3.70     YES       8.300     15.40000   \n",
       "204   5.28   4.99      25.3       2.88     YES       8.900     15.40000   \n",
       "267   2.43   2.52      27.0       7.44     YES       8.000     15.40000   \n",
       "369   1.65   0.94      19.8       3.73     YES       6.700     15.40000   \n",
       "423   2.34   1.87      19.8      23.29      NO       8.268     46.19856   \n",
       "\n",
       "    waterbody  rainfall bus_ter     parks  \n",
       "2        None        38     YES  0.045764  \n",
       "166     River        37     YES  0.052105  \n",
       "204     River        51     YES  0.044178  \n",
       "267      None        42     YES  0.063235  \n",
       "369     River        58     YES  0.067477  \n",
       "423      Lake        29     YES  0.063344  "
      ]
     },
     "execution_count": 26,
     "metadata": {},
     "output_type": "execute_result"
    }
   ],
   "source": [
    "df[(df.n_hot_rooms > uv)]"
   ]
  },
  {
   "cell_type": "code",
   "execution_count": 27,
   "id": "fb903ba7",
   "metadata": {},
   "outputs": [
    {
     "data": {
      "text/plain": [
       "array([20.])"
      ]
     },
     "execution_count": 27,
     "metadata": {},
     "output_type": "execute_result"
    }
   ],
   "source": [
    "np.percentile(df.rainfall,[1])"
   ]
  },
  {
   "cell_type": "code",
   "execution_count": 28,
   "id": "136f191c",
   "metadata": {},
   "outputs": [
    {
     "data": {
      "text/plain": [
       "20.0"
      ]
     },
     "execution_count": 28,
     "metadata": {},
     "output_type": "execute_result"
    }
   ],
   "source": [
    "np.percentile(df.rainfall,[1])[0]"
   ]
  },
  {
   "cell_type": "code",
   "execution_count": 29,
   "id": "58fa7531",
   "metadata": {},
   "outputs": [],
   "source": [
    "lv = np.percentile(df.rainfall,[1])[0]"
   ]
  },
  {
   "cell_type": "code",
   "execution_count": 30,
   "id": "95f03fca",
   "metadata": {},
   "outputs": [
    {
     "data": {
      "text/html": [
       "<div>\n",
       "<style scoped>\n",
       "    .dataframe tbody tr th:only-of-type {\n",
       "        vertical-align: middle;\n",
       "    }\n",
       "\n",
       "    .dataframe tbody tr th {\n",
       "        vertical-align: top;\n",
       "    }\n",
       "\n",
       "    .dataframe thead th {\n",
       "        text-align: right;\n",
       "    }\n",
       "</style>\n",
       "<table border=\"1\" class=\"dataframe\">\n",
       "  <thead>\n",
       "    <tr style=\"text-align: right;\">\n",
       "      <th></th>\n",
       "      <th>price</th>\n",
       "      <th>crime_rate</th>\n",
       "      <th>resid_area</th>\n",
       "      <th>air_qual</th>\n",
       "      <th>room_num</th>\n",
       "      <th>age</th>\n",
       "      <th>dist1</th>\n",
       "      <th>dist2</th>\n",
       "      <th>dist3</th>\n",
       "      <th>dist4</th>\n",
       "      <th>teachers</th>\n",
       "      <th>poor_prop</th>\n",
       "      <th>airport</th>\n",
       "      <th>n_hos_beds</th>\n",
       "      <th>n_hot_rooms</th>\n",
       "      <th>waterbody</th>\n",
       "      <th>rainfall</th>\n",
       "      <th>bus_ter</th>\n",
       "      <th>parks</th>\n",
       "    </tr>\n",
       "  </thead>\n",
       "  <tbody>\n",
       "    <tr>\n",
       "      <th>213</th>\n",
       "      <td>28.1</td>\n",
       "      <td>0.14052</td>\n",
       "      <td>40.59</td>\n",
       "      <td>0.489</td>\n",
       "      <td>6.375</td>\n",
       "      <td>32.3</td>\n",
       "      <td>4.11</td>\n",
       "      <td>3.92</td>\n",
       "      <td>4.18</td>\n",
       "      <td>3.57</td>\n",
       "      <td>21.4</td>\n",
       "      <td>9.38</td>\n",
       "      <td>YES</td>\n",
       "      <td>7.562</td>\n",
       "      <td>10.2248</td>\n",
       "      <td>None</td>\n",
       "      <td>3</td>\n",
       "      <td>YES</td>\n",
       "      <td>0.044019</td>\n",
       "    </tr>\n",
       "  </tbody>\n",
       "</table>\n",
       "</div>"
      ],
      "text/plain": [
       "     price  crime_rate  resid_area  air_qual  room_num   age  dist1  dist2  \\\n",
       "213   28.1     0.14052       40.59     0.489     6.375  32.3   4.11   3.92   \n",
       "\n",
       "     dist3  dist4  teachers  poor_prop airport  n_hos_beds  n_hot_rooms  \\\n",
       "213   4.18   3.57      21.4       9.38     YES       7.562      10.2248   \n",
       "\n",
       "    waterbody  rainfall bus_ter     parks  \n",
       "213      None         3     YES  0.044019  "
      ]
     },
     "execution_count": 30,
     "metadata": {},
     "output_type": "execute_result"
    }
   ],
   "source": [
    "df[(df.rainfall < lv)]"
   ]
  },
  {
   "cell_type": "code",
   "execution_count": 31,
   "id": "27b664af",
   "metadata": {},
   "outputs": [],
   "source": [
    "df.rainfall[(df.rainfall < 0.3*lv)] = 0.3*lv"
   ]
  },
  {
   "cell_type": "code",
   "execution_count": 32,
   "id": "7899bcf7",
   "metadata": {},
   "outputs": [
    {
     "data": {
      "text/html": [
       "<div>\n",
       "<style scoped>\n",
       "    .dataframe tbody tr th:only-of-type {\n",
       "        vertical-align: middle;\n",
       "    }\n",
       "\n",
       "    .dataframe tbody tr th {\n",
       "        vertical-align: top;\n",
       "    }\n",
       "\n",
       "    .dataframe thead th {\n",
       "        text-align: right;\n",
       "    }\n",
       "</style>\n",
       "<table border=\"1\" class=\"dataframe\">\n",
       "  <thead>\n",
       "    <tr style=\"text-align: right;\">\n",
       "      <th></th>\n",
       "      <th>price</th>\n",
       "      <th>crime_rate</th>\n",
       "      <th>resid_area</th>\n",
       "      <th>air_qual</th>\n",
       "      <th>room_num</th>\n",
       "      <th>age</th>\n",
       "      <th>dist1</th>\n",
       "      <th>dist2</th>\n",
       "      <th>dist3</th>\n",
       "      <th>dist4</th>\n",
       "      <th>teachers</th>\n",
       "      <th>poor_prop</th>\n",
       "      <th>airport</th>\n",
       "      <th>n_hos_beds</th>\n",
       "      <th>n_hot_rooms</th>\n",
       "      <th>waterbody</th>\n",
       "      <th>rainfall</th>\n",
       "      <th>bus_ter</th>\n",
       "      <th>parks</th>\n",
       "    </tr>\n",
       "  </thead>\n",
       "  <tbody>\n",
       "    <tr>\n",
       "      <th>213</th>\n",
       "      <td>28.1</td>\n",
       "      <td>0.14052</td>\n",
       "      <td>40.59</td>\n",
       "      <td>0.489</td>\n",
       "      <td>6.375</td>\n",
       "      <td>32.3</td>\n",
       "      <td>4.11</td>\n",
       "      <td>3.92</td>\n",
       "      <td>4.18</td>\n",
       "      <td>3.57</td>\n",
       "      <td>21.4</td>\n",
       "      <td>9.38</td>\n",
       "      <td>YES</td>\n",
       "      <td>7.562</td>\n",
       "      <td>10.2248</td>\n",
       "      <td>None</td>\n",
       "      <td>6</td>\n",
       "      <td>YES</td>\n",
       "      <td>0.044019</td>\n",
       "    </tr>\n",
       "  </tbody>\n",
       "</table>\n",
       "</div>"
      ],
      "text/plain": [
       "     price  crime_rate  resid_area  air_qual  room_num   age  dist1  dist2  \\\n",
       "213   28.1     0.14052       40.59     0.489     6.375  32.3   4.11   3.92   \n",
       "\n",
       "     dist3  dist4  teachers  poor_prop airport  n_hos_beds  n_hot_rooms  \\\n",
       "213   4.18   3.57      21.4       9.38     YES       7.562      10.2248   \n",
       "\n",
       "    waterbody  rainfall bus_ter     parks  \n",
       "213      None         6     YES  0.044019  "
      ]
     },
     "execution_count": 32,
     "metadata": {},
     "output_type": "execute_result"
    }
   ],
   "source": [
    "df[(df.rainfall < lv)]"
   ]
  },
  {
   "cell_type": "code",
   "execution_count": 33,
   "id": "ab160c48",
   "metadata": {},
   "outputs": [
    {
     "data": {
      "text/html": [
       "<div>\n",
       "<style scoped>\n",
       "    .dataframe tbody tr th:only-of-type {\n",
       "        vertical-align: middle;\n",
       "    }\n",
       "\n",
       "    .dataframe tbody tr th {\n",
       "        vertical-align: top;\n",
       "    }\n",
       "\n",
       "    .dataframe thead th {\n",
       "        text-align: right;\n",
       "    }\n",
       "</style>\n",
       "<table border=\"1\" class=\"dataframe\">\n",
       "  <thead>\n",
       "    <tr style=\"text-align: right;\">\n",
       "      <th></th>\n",
       "      <th>price</th>\n",
       "      <th>crime_rate</th>\n",
       "      <th>resid_area</th>\n",
       "      <th>air_qual</th>\n",
       "      <th>room_num</th>\n",
       "      <th>age</th>\n",
       "      <th>dist1</th>\n",
       "      <th>dist2</th>\n",
       "      <th>dist3</th>\n",
       "      <th>dist4</th>\n",
       "      <th>teachers</th>\n",
       "      <th>poor_prop</th>\n",
       "      <th>n_hos_beds</th>\n",
       "      <th>n_hot_rooms</th>\n",
       "      <th>rainfall</th>\n",
       "      <th>parks</th>\n",
       "    </tr>\n",
       "  </thead>\n",
       "  <tbody>\n",
       "    <tr>\n",
       "      <th>count</th>\n",
       "      <td>506.000000</td>\n",
       "      <td>506.000000</td>\n",
       "      <td>506.000000</td>\n",
       "      <td>506.000000</td>\n",
       "      <td>506.000000</td>\n",
       "      <td>506.000000</td>\n",
       "      <td>506.000000</td>\n",
       "      <td>506.000000</td>\n",
       "      <td>506.000000</td>\n",
       "      <td>506.000000</td>\n",
       "      <td>506.000000</td>\n",
       "      <td>506.000000</td>\n",
       "      <td>498.000000</td>\n",
       "      <td>506.000000</td>\n",
       "      <td>506.000000</td>\n",
       "      <td>506.000000</td>\n",
       "    </tr>\n",
       "    <tr>\n",
       "      <th>mean</th>\n",
       "      <td>22.528854</td>\n",
       "      <td>3.613524</td>\n",
       "      <td>41.136779</td>\n",
       "      <td>0.554695</td>\n",
       "      <td>6.284634</td>\n",
       "      <td>68.574901</td>\n",
       "      <td>3.971996</td>\n",
       "      <td>3.628775</td>\n",
       "      <td>3.960672</td>\n",
       "      <td>3.618972</td>\n",
       "      <td>21.544466</td>\n",
       "      <td>12.653063</td>\n",
       "      <td>7.899767</td>\n",
       "      <td>12.864050</td>\n",
       "      <td>39.187747</td>\n",
       "      <td>0.054454</td>\n",
       "    </tr>\n",
       "    <tr>\n",
       "      <th>std</th>\n",
       "      <td>9.182176</td>\n",
       "      <td>8.601545</td>\n",
       "      <td>6.860353</td>\n",
       "      <td>0.115878</td>\n",
       "      <td>0.702617</td>\n",
       "      <td>28.148861</td>\n",
       "      <td>2.108532</td>\n",
       "      <td>2.108580</td>\n",
       "      <td>2.119797</td>\n",
       "      <td>2.099203</td>\n",
       "      <td>2.164946</td>\n",
       "      <td>7.141062</td>\n",
       "      <td>1.476683</td>\n",
       "      <td>2.688778</td>\n",
       "      <td>12.497221</td>\n",
       "      <td>0.010632</td>\n",
       "    </tr>\n",
       "    <tr>\n",
       "      <th>min</th>\n",
       "      <td>5.000000</td>\n",
       "      <td>0.006320</td>\n",
       "      <td>30.460000</td>\n",
       "      <td>0.385000</td>\n",
       "      <td>3.561000</td>\n",
       "      <td>2.900000</td>\n",
       "      <td>1.130000</td>\n",
       "      <td>0.920000</td>\n",
       "      <td>1.150000</td>\n",
       "      <td>0.730000</td>\n",
       "      <td>18.000000</td>\n",
       "      <td>1.730000</td>\n",
       "      <td>5.268000</td>\n",
       "      <td>10.057600</td>\n",
       "      <td>6.000000</td>\n",
       "      <td>0.033292</td>\n",
       "    </tr>\n",
       "    <tr>\n",
       "      <th>25%</th>\n",
       "      <td>17.025000</td>\n",
       "      <td>0.082045</td>\n",
       "      <td>35.190000</td>\n",
       "      <td>0.449000</td>\n",
       "      <td>5.885500</td>\n",
       "      <td>45.025000</td>\n",
       "      <td>2.270000</td>\n",
       "      <td>1.940000</td>\n",
       "      <td>2.232500</td>\n",
       "      <td>1.940000</td>\n",
       "      <td>19.800000</td>\n",
       "      <td>6.950000</td>\n",
       "      <td>6.634500</td>\n",
       "      <td>11.189800</td>\n",
       "      <td>28.000000</td>\n",
       "      <td>0.046464</td>\n",
       "    </tr>\n",
       "    <tr>\n",
       "      <th>50%</th>\n",
       "      <td>21.200000</td>\n",
       "      <td>0.256510</td>\n",
       "      <td>39.690000</td>\n",
       "      <td>0.538000</td>\n",
       "      <td>6.208500</td>\n",
       "      <td>77.500000</td>\n",
       "      <td>3.385000</td>\n",
       "      <td>3.010000</td>\n",
       "      <td>3.375000</td>\n",
       "      <td>3.070000</td>\n",
       "      <td>20.950000</td>\n",
       "      <td>11.360000</td>\n",
       "      <td>7.999000</td>\n",
       "      <td>12.720000</td>\n",
       "      <td>39.000000</td>\n",
       "      <td>0.053507</td>\n",
       "    </tr>\n",
       "    <tr>\n",
       "      <th>75%</th>\n",
       "      <td>25.000000</td>\n",
       "      <td>3.677083</td>\n",
       "      <td>48.100000</td>\n",
       "      <td>0.624000</td>\n",
       "      <td>6.623500</td>\n",
       "      <td>94.075000</td>\n",
       "      <td>5.367500</td>\n",
       "      <td>4.992500</td>\n",
       "      <td>5.407500</td>\n",
       "      <td>4.985000</td>\n",
       "      <td>22.600000</td>\n",
       "      <td>16.955000</td>\n",
       "      <td>9.088000</td>\n",
       "      <td>14.170800</td>\n",
       "      <td>50.000000</td>\n",
       "      <td>0.061397</td>\n",
       "    </tr>\n",
       "    <tr>\n",
       "      <th>max</th>\n",
       "      <td>50.000000</td>\n",
       "      <td>88.976200</td>\n",
       "      <td>57.740000</td>\n",
       "      <td>0.871000</td>\n",
       "      <td>8.780000</td>\n",
       "      <td>100.000000</td>\n",
       "      <td>12.320000</td>\n",
       "      <td>11.930000</td>\n",
       "      <td>12.320000</td>\n",
       "      <td>11.940000</td>\n",
       "      <td>27.400000</td>\n",
       "      <td>37.970000</td>\n",
       "      <td>10.876000</td>\n",
       "      <td>46.198560</td>\n",
       "      <td>60.000000</td>\n",
       "      <td>0.086711</td>\n",
       "    </tr>\n",
       "  </tbody>\n",
       "</table>\n",
       "</div>"
      ],
      "text/plain": [
       "            price  crime_rate  resid_area    air_qual    room_num         age  \\\n",
       "count  506.000000  506.000000  506.000000  506.000000  506.000000  506.000000   \n",
       "mean    22.528854    3.613524   41.136779    0.554695    6.284634   68.574901   \n",
       "std      9.182176    8.601545    6.860353    0.115878    0.702617   28.148861   \n",
       "min      5.000000    0.006320   30.460000    0.385000    3.561000    2.900000   \n",
       "25%     17.025000    0.082045   35.190000    0.449000    5.885500   45.025000   \n",
       "50%     21.200000    0.256510   39.690000    0.538000    6.208500   77.500000   \n",
       "75%     25.000000    3.677083   48.100000    0.624000    6.623500   94.075000   \n",
       "max     50.000000   88.976200   57.740000    0.871000    8.780000  100.000000   \n",
       "\n",
       "            dist1       dist2       dist3       dist4    teachers   poor_prop  \\\n",
       "count  506.000000  506.000000  506.000000  506.000000  506.000000  506.000000   \n",
       "mean     3.971996    3.628775    3.960672    3.618972   21.544466   12.653063   \n",
       "std      2.108532    2.108580    2.119797    2.099203    2.164946    7.141062   \n",
       "min      1.130000    0.920000    1.150000    0.730000   18.000000    1.730000   \n",
       "25%      2.270000    1.940000    2.232500    1.940000   19.800000    6.950000   \n",
       "50%      3.385000    3.010000    3.375000    3.070000   20.950000   11.360000   \n",
       "75%      5.367500    4.992500    5.407500    4.985000   22.600000   16.955000   \n",
       "max     12.320000   11.930000   12.320000   11.940000   27.400000   37.970000   \n",
       "\n",
       "       n_hos_beds  n_hot_rooms    rainfall       parks  \n",
       "count  498.000000   506.000000  506.000000  506.000000  \n",
       "mean     7.899767    12.864050   39.187747    0.054454  \n",
       "std      1.476683     2.688778   12.497221    0.010632  \n",
       "min      5.268000    10.057600    6.000000    0.033292  \n",
       "25%      6.634500    11.189800   28.000000    0.046464  \n",
       "50%      7.999000    12.720000   39.000000    0.053507  \n",
       "75%      9.088000    14.170800   50.000000    0.061397  \n",
       "max     10.876000    46.198560   60.000000    0.086711  "
      ]
     },
     "execution_count": 33,
     "metadata": {},
     "output_type": "execute_result"
    }
   ],
   "source": [
    "df.describe()"
   ]
  },
  {
   "cell_type": "markdown",
   "id": "97c1f2d0",
   "metadata": {},
   "source": [
    "## Missing value imputation"
   ]
  },
  {
   "cell_type": "code",
   "execution_count": 34,
   "id": "88915754",
   "metadata": {},
   "outputs": [
    {
     "name": "stdout",
     "output_type": "stream",
     "text": [
      "<class 'pandas.core.frame.DataFrame'>\n",
      "RangeIndex: 506 entries, 0 to 505\n",
      "Data columns (total 19 columns):\n",
      " #   Column       Non-Null Count  Dtype  \n",
      "---  ------       --------------  -----  \n",
      " 0   price        506 non-null    float64\n",
      " 1   crime_rate   506 non-null    float64\n",
      " 2   resid_area   506 non-null    float64\n",
      " 3   air_qual     506 non-null    float64\n",
      " 4   room_num     506 non-null    float64\n",
      " 5   age          506 non-null    float64\n",
      " 6   dist1        506 non-null    float64\n",
      " 7   dist2        506 non-null    float64\n",
      " 8   dist3        506 non-null    float64\n",
      " 9   dist4        506 non-null    float64\n",
      " 10  teachers     506 non-null    float64\n",
      " 11  poor_prop    506 non-null    float64\n",
      " 12  airport      506 non-null    object \n",
      " 13  n_hos_beds   498 non-null    float64\n",
      " 14  n_hot_rooms  506 non-null    float64\n",
      " 15  waterbody    506 non-null    object \n",
      " 16  rainfall     506 non-null    int64  \n",
      " 17  bus_ter      506 non-null    object \n",
      " 18  parks        506 non-null    float64\n",
      "dtypes: float64(15), int64(1), object(3)\n",
      "memory usage: 75.2+ KB\n"
     ]
    }
   ],
   "source": [
    "df.info()"
   ]
  },
  {
   "cell_type": "code",
   "execution_count": 35,
   "id": "dea05f56",
   "metadata": {},
   "outputs": [],
   "source": [
    "df.n_hot_rooms = df.n_hot_rooms.fillna(df.n_hot_rooms.mean())"
   ]
  },
  {
   "cell_type": "code",
   "execution_count": 36,
   "id": "6e47080b",
   "metadata": {},
   "outputs": [
    {
     "name": "stdout",
     "output_type": "stream",
     "text": [
      "<class 'pandas.core.frame.DataFrame'>\n",
      "RangeIndex: 506 entries, 0 to 505\n",
      "Data columns (total 19 columns):\n",
      " #   Column       Non-Null Count  Dtype  \n",
      "---  ------       --------------  -----  \n",
      " 0   price        506 non-null    float64\n",
      " 1   crime_rate   506 non-null    float64\n",
      " 2   resid_area   506 non-null    float64\n",
      " 3   air_qual     506 non-null    float64\n",
      " 4   room_num     506 non-null    float64\n",
      " 5   age          506 non-null    float64\n",
      " 6   dist1        506 non-null    float64\n",
      " 7   dist2        506 non-null    float64\n",
      " 8   dist3        506 non-null    float64\n",
      " 9   dist4        506 non-null    float64\n",
      " 10  teachers     506 non-null    float64\n",
      " 11  poor_prop    506 non-null    float64\n",
      " 12  airport      506 non-null    object \n",
      " 13  n_hos_beds   498 non-null    float64\n",
      " 14  n_hot_rooms  506 non-null    float64\n",
      " 15  waterbody    506 non-null    object \n",
      " 16  rainfall     506 non-null    int64  \n",
      " 17  bus_ter      506 non-null    object \n",
      " 18  parks        506 non-null    float64\n",
      "dtypes: float64(15), int64(1), object(3)\n",
      "memory usage: 75.2+ KB\n"
     ]
    }
   ],
   "source": [
    "df.info()"
   ]
  },
  {
   "cell_type": "markdown",
   "id": "9d254168",
   "metadata": {},
   "source": [
    "## Variable Transformation"
   ]
  },
  {
   "cell_type": "code",
   "execution_count": 37,
   "id": "bd398761",
   "metadata": {},
   "outputs": [
    {
     "data": {
      "image/png": "[encoded data removed]",
      "text/plain": [
       "<Figure size 432x432 with 3 Axes>"
      ]
     },
     "metadata": {
      "needs_background": "light"
     },
     "output_type": "display_data"
    }
   ],
   "source": [
    "sns.jointplot(x = 'crime_rate', y = 'price', data = df)\n",
    "plt.show()"
   ]
  },
  {
   "cell_type": "code",
   "execution_count": 38,
   "id": "6bc8ad4b",
   "metadata": {},
   "outputs": [],
   "source": [
    "df.crime_rate = np.log(1 + df.crime_rate)"
   ]
  },
  {
   "cell_type": "code",
   "execution_count": 39,
   "id": "361e7840",
   "metadata": {},
   "outputs": [
    {
     "data": {
      "image/png": "[encoded data removed]",
      "text/plain": [
       "<Figure size 432x432 with 3 Axes>"
      ]
     },
     "metadata": {
      "needs_background": "light"
     },
     "output_type": "display_data"
    }
   ],
   "source": [
    "sns.jointplot(x = 'crime_rate', y = 'price', data = df)\n",
    "plt.show()"
   ]
  },
  {
   "cell_type": "code",
   "execution_count": 40,
   "id": "5e704dfa",
   "metadata": {},
   "outputs": [],
   "source": [
    "df['avg_dist'] = (df.dist1 + df.dist2 + df.dist3 + df.dist4)/4"
   ]
  },
  {
   "cell_type": "code",
   "execution_count": 41,
   "id": "b2e776df",
   "metadata": {},
   "outputs": [
    {
     "data": {
      "text/html": [
       "<div>\n",
       "<style scoped>\n",
       "    .dataframe tbody tr th:only-of-type {\n",
       "        vertical-align: middle;\n",
       "    }\n",
       "\n",
       "    .dataframe tbody tr th {\n",
       "        vertical-align: top;\n",
       "    }\n",
       "\n",
       "    .dataframe thead th {\n",
       "        text-align: right;\n",
       "    }\n",
       "</style>\n",
       "<table border=\"1\" class=\"dataframe\">\n",
       "  <thead>\n",
       "    <tr style=\"text-align: right;\">\n",
       "      <th></th>\n",
       "      <th>price</th>\n",
       "      <th>crime_rate</th>\n",
       "      <th>resid_area</th>\n",
       "      <th>air_qual</th>\n",
       "      <th>room_num</th>\n",
       "      <th>age</th>\n",
       "      <th>dist1</th>\n",
       "      <th>dist2</th>\n",
       "      <th>dist3</th>\n",
       "      <th>dist4</th>\n",
       "      <th>teachers</th>\n",
       "      <th>poor_prop</th>\n",
       "      <th>n_hos_beds</th>\n",
       "      <th>n_hot_rooms</th>\n",
       "      <th>rainfall</th>\n",
       "      <th>parks</th>\n",
       "      <th>avg_dist</th>\n",
       "    </tr>\n",
       "  </thead>\n",
       "  <tbody>\n",
       "    <tr>\n",
       "      <th>count</th>\n",
       "      <td>506.000000</td>\n",
       "      <td>506.000000</td>\n",
       "      <td>506.000000</td>\n",
       "      <td>506.000000</td>\n",
       "      <td>506.000000</td>\n",
       "      <td>506.000000</td>\n",
       "      <td>506.000000</td>\n",
       "      <td>506.000000</td>\n",
       "      <td>506.000000</td>\n",
       "      <td>506.000000</td>\n",
       "      <td>506.000000</td>\n",
       "      <td>506.000000</td>\n",
       "      <td>498.000000</td>\n",
       "      <td>506.000000</td>\n",
       "      <td>506.000000</td>\n",
       "      <td>506.000000</td>\n",
       "      <td>506.000000</td>\n",
       "    </tr>\n",
       "    <tr>\n",
       "      <th>mean</th>\n",
       "      <td>22.528854</td>\n",
       "      <td>0.813418</td>\n",
       "      <td>41.136779</td>\n",
       "      <td>0.554695</td>\n",
       "      <td>6.284634</td>\n",
       "      <td>68.574901</td>\n",
       "      <td>3.971996</td>\n",
       "      <td>3.628775</td>\n",
       "      <td>3.960672</td>\n",
       "      <td>3.618972</td>\n",
       "      <td>21.544466</td>\n",
       "      <td>12.653063</td>\n",
       "      <td>7.899767</td>\n",
       "      <td>12.864050</td>\n",
       "      <td>39.187747</td>\n",
       "      <td>0.054454</td>\n",
       "      <td>3.795104</td>\n",
       "    </tr>\n",
       "    <tr>\n",
       "      <th>std</th>\n",
       "      <td>9.182176</td>\n",
       "      <td>1.022731</td>\n",
       "      <td>6.860353</td>\n",
       "      <td>0.115878</td>\n",
       "      <td>0.702617</td>\n",
       "      <td>28.148861</td>\n",
       "      <td>2.108532</td>\n",
       "      <td>2.108580</td>\n",
       "      <td>2.119797</td>\n",
       "      <td>2.099203</td>\n",
       "      <td>2.164946</td>\n",
       "      <td>7.141062</td>\n",
       "      <td>1.476683</td>\n",
       "      <td>2.688778</td>\n",
       "      <td>12.497221</td>\n",
       "      <td>0.010632</td>\n",
       "      <td>2.105859</td>\n",
       "    </tr>\n",
       "    <tr>\n",
       "      <th>min</th>\n",
       "      <td>5.000000</td>\n",
       "      <td>0.006300</td>\n",
       "      <td>30.460000</td>\n",
       "      <td>0.385000</td>\n",
       "      <td>3.561000</td>\n",
       "      <td>2.900000</td>\n",
       "      <td>1.130000</td>\n",
       "      <td>0.920000</td>\n",
       "      <td>1.150000</td>\n",
       "      <td>0.730000</td>\n",
       "      <td>18.000000</td>\n",
       "      <td>1.730000</td>\n",
       "      <td>5.268000</td>\n",
       "      <td>10.057600</td>\n",
       "      <td>6.000000</td>\n",
       "      <td>0.033292</td>\n",
       "      <td>1.127500</td>\n",
       "    </tr>\n",
       "    <tr>\n",
       "      <th>25%</th>\n",
       "      <td>17.025000</td>\n",
       "      <td>0.078853</td>\n",
       "      <td>35.190000</td>\n",
       "      <td>0.449000</td>\n",
       "      <td>5.885500</td>\n",
       "      <td>45.025000</td>\n",
       "      <td>2.270000</td>\n",
       "      <td>1.940000</td>\n",
       "      <td>2.232500</td>\n",
       "      <td>1.940000</td>\n",
       "      <td>19.800000</td>\n",
       "      <td>6.950000</td>\n",
       "      <td>6.634500</td>\n",
       "      <td>11.189800</td>\n",
       "      <td>28.000000</td>\n",
       "      <td>0.046464</td>\n",
       "      <td>2.100625</td>\n",
       "    </tr>\n",
       "    <tr>\n",
       "      <th>50%</th>\n",
       "      <td>21.200000</td>\n",
       "      <td>0.228336</td>\n",
       "      <td>39.690000</td>\n",
       "      <td>0.538000</td>\n",
       "      <td>6.208500</td>\n",
       "      <td>77.500000</td>\n",
       "      <td>3.385000</td>\n",
       "      <td>3.010000</td>\n",
       "      <td>3.375000</td>\n",
       "      <td>3.070000</td>\n",
       "      <td>20.950000</td>\n",
       "      <td>11.360000</td>\n",
       "      <td>7.999000</td>\n",
       "      <td>12.720000</td>\n",
       "      <td>39.000000</td>\n",
       "      <td>0.053507</td>\n",
       "      <td>3.207500</td>\n",
       "    </tr>\n",
       "    <tr>\n",
       "      <th>75%</th>\n",
       "      <td>25.000000</td>\n",
       "      <td>1.542674</td>\n",
       "      <td>48.100000</td>\n",
       "      <td>0.624000</td>\n",
       "      <td>6.623500</td>\n",
       "      <td>94.075000</td>\n",
       "      <td>5.367500</td>\n",
       "      <td>4.992500</td>\n",
       "      <td>5.407500</td>\n",
       "      <td>4.985000</td>\n",
       "      <td>22.600000</td>\n",
       "      <td>16.955000</td>\n",
       "      <td>9.088000</td>\n",
       "      <td>14.170800</td>\n",
       "      <td>50.000000</td>\n",
       "      <td>0.061397</td>\n",
       "      <td>5.187500</td>\n",
       "    </tr>\n",
       "    <tr>\n",
       "      <th>max</th>\n",
       "      <td>50.000000</td>\n",
       "      <td>4.499545</td>\n",
       "      <td>57.740000</td>\n",
       "      <td>0.871000</td>\n",
       "      <td>8.780000</td>\n",
       "      <td>100.000000</td>\n",
       "      <td>12.320000</td>\n",
       "      <td>11.930000</td>\n",
       "      <td>12.320000</td>\n",
       "      <td>11.940000</td>\n",
       "      <td>27.400000</td>\n",
       "      <td>37.970000</td>\n",
       "      <td>10.876000</td>\n",
       "      <td>46.198560</td>\n",
       "      <td>60.000000</td>\n",
       "      <td>0.086711</td>\n",
       "      <td>12.127500</td>\n",
       "    </tr>\n",
       "  </tbody>\n",
       "</table>\n",
       "</div>"
      ],
      "text/plain": [
       "            price  crime_rate  resid_area    air_qual    room_num         age  \\\n",
       "count  506.000000  506.000000  506.000000  506.000000  506.000000  506.000000   \n",
       "mean    22.528854    0.813418   41.136779    0.554695    6.284634   68.574901   \n",
       "std      9.182176    1.022731    6.860353    0.115878    0.702617   28.148861   \n",
       "min      5.000000    0.006300   30.460000    0.385000    3.561000    2.900000   \n",
       "25%     17.025000    0.078853   35.190000    0.449000    5.885500   45.025000   \n",
       "50%     21.200000    0.228336   39.690000    0.538000    6.208500   77.500000   \n",
       "75%     25.000000    1.542674   48.100000    0.624000    6.623500   94.075000   \n",
       "max     50.000000    4.499545   57.740000    0.871000    8.780000  100.000000   \n",
       "\n",
       "            dist1       dist2       dist3       dist4    teachers   poor_prop  \\\n",
       "count  506.000000  506.000000  506.000000  506.000000  506.000000  506.000000   \n",
       "mean     3.971996    3.628775    3.960672    3.618972   21.544466   12.653063   \n",
       "std      2.108532    2.108580    2.119797    2.099203    2.164946    7.141062   \n",
       "min      1.130000    0.920000    1.150000    0.730000   18.000000    1.730000   \n",
       "25%      2.270000    1.940000    2.232500    1.940000   19.800000    6.950000   \n",
       "50%      3.385000    3.010000    3.375000    3.070000   20.950000   11.360000   \n",
       "75%      5.367500    4.992500    5.407500    4.985000   22.600000   16.955000   \n",
       "max     12.320000   11.930000   12.320000   11.940000   27.400000   37.970000   \n",
       "\n",
       "       n_hos_beds  n_hot_rooms    rainfall       parks    avg_dist  \n",
       "count  498.000000   506.000000  506.000000  506.000000  506.000000  \n",
       "mean     7.899767    12.864050   39.187747    0.054454    3.795104  \n",
       "std      1.476683     2.688778   12.497221    0.010632    2.105859  \n",
       "min      5.268000    10.057600    6.000000    0.033292    1.127500  \n",
       "25%      6.634500    11.189800   28.000000    0.046464    2.100625  \n",
       "50%      7.999000    12.720000   39.000000    0.053507    3.207500  \n",
       "75%      9.088000    14.170800   50.000000    0.061397    5.187500  \n",
       "max     10.876000    46.198560   60.000000    0.086711   12.127500  "
      ]
     },
     "execution_count": 41,
     "metadata": {},
     "output_type": "execute_result"
    }
   ],
   "source": [
    "df.describe()"
   ]
  },
  {
   "cell_type": "code",
   "execution_count": 42,
   "id": "d0b65937",
   "metadata": {},
   "outputs": [],
   "source": [
    "del df['dist1']"
   ]
  },
  {
   "cell_type": "code",
   "execution_count": 43,
   "id": "4750c02e",
   "metadata": {},
   "outputs": [],
   "source": [
    "del df['dist2']"
   ]
  },
  {
   "cell_type": "code",
   "execution_count": 44,
   "id": "ce5da123",
   "metadata": {},
   "outputs": [],
   "source": [
    "del df['dist3']"
   ]
  },
  {
   "cell_type": "code",
   "execution_count": 45,
   "id": "f58c7008",
   "metadata": {},
   "outputs": [],
   "source": [
    "del df['dist4']"
   ]
  },
  {
   "cell_type": "code",
   "execution_count": 46,
   "id": "c5a2a0ff",
   "metadata": {},
   "outputs": [
    {
     "data": {
      "text/html": [
       "<div>\n",
       "<style scoped>\n",
       "    .dataframe tbody tr th:only-of-type {\n",
       "        vertical-align: middle;\n",
       "    }\n",
       "\n",
       "    .dataframe tbody tr th {\n",
       "        vertical-align: top;\n",
       "    }\n",
       "\n",
       "    .dataframe thead th {\n",
       "        text-align: right;\n",
       "    }\n",
       "</style>\n",
       "<table border=\"1\" class=\"dataframe\">\n",
       "  <thead>\n",
       "    <tr style=\"text-align: right;\">\n",
       "      <th></th>\n",
       "      <th>price</th>\n",
       "      <th>crime_rate</th>\n",
       "      <th>resid_area</th>\n",
       "      <th>air_qual</th>\n",
       "      <th>room_num</th>\n",
       "      <th>age</th>\n",
       "      <th>teachers</th>\n",
       "      <th>poor_prop</th>\n",
       "      <th>n_hos_beds</th>\n",
       "      <th>n_hot_rooms</th>\n",
       "      <th>rainfall</th>\n",
       "      <th>parks</th>\n",
       "      <th>avg_dist</th>\n",
       "    </tr>\n",
       "  </thead>\n",
       "  <tbody>\n",
       "    <tr>\n",
       "      <th>count</th>\n",
       "      <td>506.000000</td>\n",
       "      <td>506.000000</td>\n",
       "      <td>506.000000</td>\n",
       "      <td>506.000000</td>\n",
       "      <td>506.000000</td>\n",
       "      <td>506.000000</td>\n",
       "      <td>506.000000</td>\n",
       "      <td>506.000000</td>\n",
       "      <td>498.000000</td>\n",
       "      <td>506.000000</td>\n",
       "      <td>506.000000</td>\n",
       "      <td>506.000000</td>\n",
       "      <td>506.000000</td>\n",
       "    </tr>\n",
       "    <tr>\n",
       "      <th>mean</th>\n",
       "      <td>22.528854</td>\n",
       "      <td>0.813418</td>\n",
       "      <td>41.136779</td>\n",
       "      <td>0.554695</td>\n",
       "      <td>6.284634</td>\n",
       "      <td>68.574901</td>\n",
       "      <td>21.544466</td>\n",
       "      <td>12.653063</td>\n",
       "      <td>7.899767</td>\n",
       "      <td>12.864050</td>\n",
       "      <td>39.187747</td>\n",
       "      <td>0.054454</td>\n",
       "      <td>3.795104</td>\n",
       "    </tr>\n",
       "    <tr>\n",
       "      <th>std</th>\n",
       "      <td>9.182176</td>\n",
       "      <td>1.022731</td>\n",
       "      <td>6.860353</td>\n",
       "      <td>0.115878</td>\n",
       "      <td>0.702617</td>\n",
       "      <td>28.148861</td>\n",
       "      <td>2.164946</td>\n",
       "      <td>7.141062</td>\n",
       "      <td>1.476683</td>\n",
       "      <td>2.688778</td>\n",
       "      <td>12.497221</td>\n",
       "      <td>0.010632</td>\n",
       "      <td>2.105859</td>\n",
       "    </tr>\n",
       "    <tr>\n",
       "      <th>min</th>\n",
       "      <td>5.000000</td>\n",
       "      <td>0.006300</td>\n",
       "      <td>30.460000</td>\n",
       "      <td>0.385000</td>\n",
       "      <td>3.561000</td>\n",
       "      <td>2.900000</td>\n",
       "      <td>18.000000</td>\n",
       "      <td>1.730000</td>\n",
       "      <td>5.268000</td>\n",
       "      <td>10.057600</td>\n",
       "      <td>6.000000</td>\n",
       "      <td>0.033292</td>\n",
       "      <td>1.127500</td>\n",
       "    </tr>\n",
       "    <tr>\n",
       "      <th>25%</th>\n",
       "      <td>17.025000</td>\n",
       "      <td>0.078853</td>\n",
       "      <td>35.190000</td>\n",
       "      <td>0.449000</td>\n",
       "      <td>5.885500</td>\n",
       "      <td>45.025000</td>\n",
       "      <td>19.800000</td>\n",
       "      <td>6.950000</td>\n",
       "      <td>6.634500</td>\n",
       "      <td>11.189800</td>\n",
       "      <td>28.000000</td>\n",
       "      <td>0.046464</td>\n",
       "      <td>2.100625</td>\n",
       "    </tr>\n",
       "    <tr>\n",
       "      <th>50%</th>\n",
       "      <td>21.200000</td>\n",
       "      <td>0.228336</td>\n",
       "      <td>39.690000</td>\n",
       "      <td>0.538000</td>\n",
       "      <td>6.208500</td>\n",
       "      <td>77.500000</td>\n",
       "      <td>20.950000</td>\n",
       "      <td>11.360000</td>\n",
       "      <td>7.999000</td>\n",
       "      <td>12.720000</td>\n",
       "      <td>39.000000</td>\n",
       "      <td>0.053507</td>\n",
       "      <td>3.207500</td>\n",
       "    </tr>\n",
       "    <tr>\n",
       "      <th>75%</th>\n",
       "      <td>25.000000</td>\n",
       "      <td>1.542674</td>\n",
       "      <td>48.100000</td>\n",
       "      <td>0.624000</td>\n",
       "      <td>6.623500</td>\n",
       "      <td>94.075000</td>\n",
       "      <td>22.600000</td>\n",
       "      <td>16.955000</td>\n",
       "      <td>9.088000</td>\n",
       "      <td>14.170800</td>\n",
       "      <td>50.000000</td>\n",
       "      <td>0.061397</td>\n",
       "      <td>5.187500</td>\n",
       "    </tr>\n",
       "    <tr>\n",
       "      <th>max</th>\n",
       "      <td>50.000000</td>\n",
       "      <td>4.499545</td>\n",
       "      <td>57.740000</td>\n",
       "      <td>0.871000</td>\n",
       "      <td>8.780000</td>\n",
       "      <td>100.000000</td>\n",
       "      <td>27.400000</td>\n",
       "      <td>37.970000</td>\n",
       "      <td>10.876000</td>\n",
       "      <td>46.198560</td>\n",
       "      <td>60.000000</td>\n",
       "      <td>0.086711</td>\n",
       "      <td>12.127500</td>\n",
       "    </tr>\n",
       "  </tbody>\n",
       "</table>\n",
       "</div>"
      ],
      "text/plain": [
       "            price  crime_rate  resid_area    air_qual    room_num         age  \\\n",
       "count  506.000000  506.000000  506.000000  506.000000  506.000000  506.000000   \n",
       "mean    22.528854    0.813418   41.136779    0.554695    6.284634   68.574901   \n",
       "std      9.182176    1.022731    6.860353    0.115878    0.702617   28.148861   \n",
       "min      5.000000    0.006300   30.460000    0.385000    3.561000    2.900000   \n",
       "25%     17.025000    0.078853   35.190000    0.449000    5.885500   45.025000   \n",
       "50%     21.200000    0.228336   39.690000    0.538000    6.208500   77.500000   \n",
       "75%     25.000000    1.542674   48.100000    0.624000    6.623500   94.075000   \n",
       "max     50.000000    4.499545   57.740000    0.871000    8.780000  100.000000   \n",
       "\n",
       "         teachers   poor_prop  n_hos_beds  n_hot_rooms    rainfall  \\\n",
       "count  506.000000  506.000000  498.000000   506.000000  506.000000   \n",
       "mean    21.544466   12.653063    7.899767    12.864050   39.187747   \n",
       "std      2.164946    7.141062    1.476683     2.688778   12.497221   \n",
       "min     18.000000    1.730000    5.268000    10.057600    6.000000   \n",
       "25%     19.800000    6.950000    6.634500    11.189800   28.000000   \n",
       "50%     20.950000   11.360000    7.999000    12.720000   39.000000   \n",
       "75%     22.600000   16.955000    9.088000    14.170800   50.000000   \n",
       "max     27.400000   37.970000   10.876000    46.198560   60.000000   \n",
       "\n",
       "            parks    avg_dist  \n",
       "count  506.000000  506.000000  \n",
       "mean     0.054454    3.795104  \n",
       "std      0.010632    2.105859  \n",
       "min      0.033292    1.127500  \n",
       "25%      0.046464    2.100625  \n",
       "50%      0.053507    3.207500  \n",
       "75%      0.061397    5.187500  \n",
       "max      0.086711   12.127500  "
      ]
     },
     "execution_count": 46,
     "metadata": {},
     "output_type": "execute_result"
    }
   ],
   "source": [
    "df.describe()"
   ]
  },
  {
   "cell_type": "code",
   "execution_count": 47,
   "id": "d4d55316",
   "metadata": {},
   "outputs": [],
   "source": [
    "del df['bus_ter']    # it does not provide any useful information"
   ]
  },
  {
   "cell_type": "markdown",
   "id": "8805e0c7",
   "metadata": {},
   "source": [
    "## Dummy variable creation"
   ]
  },
  {
   "cell_type": "code",
   "execution_count": 48,
   "id": "fb0ab313",
   "metadata": {},
   "outputs": [],
   "source": [
    "df = pd.get_dummies(df)"
   ]
  },
  {
   "cell_type": "code",
   "execution_count": 49,
   "id": "49fc2bf3",
   "metadata": {},
   "outputs": [
    {
     "data": {
      "text/html": [
       "<div>\n",
       "<style scoped>\n",
       "    .dataframe tbody tr th:only-of-type {\n",
       "        vertical-align: middle;\n",
       "    }\n",
       "\n",
       "    .dataframe tbody tr th {\n",
       "        vertical-align: top;\n",
       "    }\n",
       "\n",
       "    .dataframe thead th {\n",
       "        text-align: right;\n",
       "    }\n",
       "</style>\n",
       "<table border=\"1\" class=\"dataframe\">\n",
       "  <thead>\n",
       "    <tr style=\"text-align: right;\">\n",
       "      <th></th>\n",
       "      <th>price</th>\n",
       "      <th>crime_rate</th>\n",
       "      <th>resid_area</th>\n",
       "      <th>air_qual</th>\n",
       "      <th>room_num</th>\n",
       "      <th>age</th>\n",
       "      <th>teachers</th>\n",
       "      <th>poor_prop</th>\n",
       "      <th>n_hos_beds</th>\n",
       "      <th>n_hot_rooms</th>\n",
       "      <th>rainfall</th>\n",
       "      <th>parks</th>\n",
       "      <th>avg_dist</th>\n",
       "      <th>airport_NO</th>\n",
       "      <th>airport_YES</th>\n",
       "      <th>waterbody_Lake</th>\n",
       "      <th>waterbody_Lake and River</th>\n",
       "      <th>waterbody_None</th>\n",
       "      <th>waterbody_River</th>\n",
       "    </tr>\n",
       "  </thead>\n",
       "  <tbody>\n",
       "    <tr>\n",
       "      <th>0</th>\n",
       "      <td>24.0</td>\n",
       "      <td>0.006300</td>\n",
       "      <td>32.31</td>\n",
       "      <td>0.538</td>\n",
       "      <td>6.575</td>\n",
       "      <td>65.2</td>\n",
       "      <td>24.7</td>\n",
       "      <td>4.98</td>\n",
       "      <td>5.480</td>\n",
       "      <td>11.19200</td>\n",
       "      <td>23</td>\n",
       "      <td>0.049347</td>\n",
       "      <td>4.0875</td>\n",
       "      <td>0</td>\n",
       "      <td>1</td>\n",
       "      <td>0</td>\n",
       "      <td>0</td>\n",
       "      <td>0</td>\n",
       "      <td>1</td>\n",
       "    </tr>\n",
       "    <tr>\n",
       "      <th>1</th>\n",
       "      <td>21.6</td>\n",
       "      <td>0.026944</td>\n",
       "      <td>37.07</td>\n",
       "      <td>0.469</td>\n",
       "      <td>6.421</td>\n",
       "      <td>78.9</td>\n",
       "      <td>22.2</td>\n",
       "      <td>9.14</td>\n",
       "      <td>7.332</td>\n",
       "      <td>12.17280</td>\n",
       "      <td>42</td>\n",
       "      <td>0.046146</td>\n",
       "      <td>4.9675</td>\n",
       "      <td>1</td>\n",
       "      <td>0</td>\n",
       "      <td>1</td>\n",
       "      <td>0</td>\n",
       "      <td>0</td>\n",
       "      <td>0</td>\n",
       "    </tr>\n",
       "    <tr>\n",
       "      <th>2</th>\n",
       "      <td>34.7</td>\n",
       "      <td>0.026924</td>\n",
       "      <td>37.07</td>\n",
       "      <td>0.469</td>\n",
       "      <td>7.185</td>\n",
       "      <td>61.1</td>\n",
       "      <td>22.2</td>\n",
       "      <td>4.03</td>\n",
       "      <td>7.394</td>\n",
       "      <td>46.19856</td>\n",
       "      <td>38</td>\n",
       "      <td>0.045764</td>\n",
       "      <td>4.9675</td>\n",
       "      <td>1</td>\n",
       "      <td>0</td>\n",
       "      <td>0</td>\n",
       "      <td>0</td>\n",
       "      <td>1</td>\n",
       "      <td>0</td>\n",
       "    </tr>\n",
       "    <tr>\n",
       "      <th>3</th>\n",
       "      <td>33.4</td>\n",
       "      <td>0.031857</td>\n",
       "      <td>32.18</td>\n",
       "      <td>0.458</td>\n",
       "      <td>6.998</td>\n",
       "      <td>45.8</td>\n",
       "      <td>21.3</td>\n",
       "      <td>2.94</td>\n",
       "      <td>9.268</td>\n",
       "      <td>11.26720</td>\n",
       "      <td>45</td>\n",
       "      <td>0.047151</td>\n",
       "      <td>6.0650</td>\n",
       "      <td>0</td>\n",
       "      <td>1</td>\n",
       "      <td>1</td>\n",
       "      <td>0</td>\n",
       "      <td>0</td>\n",
       "      <td>0</td>\n",
       "    </tr>\n",
       "    <tr>\n",
       "      <th>4</th>\n",
       "      <td>36.2</td>\n",
       "      <td>0.066770</td>\n",
       "      <td>32.18</td>\n",
       "      <td>0.458</td>\n",
       "      <td>7.147</td>\n",
       "      <td>54.2</td>\n",
       "      <td>21.3</td>\n",
       "      <td>5.33</td>\n",
       "      <td>8.824</td>\n",
       "      <td>11.28960</td>\n",
       "      <td>55</td>\n",
       "      <td>0.039474</td>\n",
       "      <td>6.0625</td>\n",
       "      <td>1</td>\n",
       "      <td>0</td>\n",
       "      <td>1</td>\n",
       "      <td>0</td>\n",
       "      <td>0</td>\n",
       "      <td>0</td>\n",
       "    </tr>\n",
       "  </tbody>\n",
       "</table>\n",
       "</div>"
      ],
      "text/plain": [
       "   price  crime_rate  resid_area  air_qual  room_num   age  teachers  \\\n",
       "0   24.0    0.006300       32.31     0.538     6.575  65.2      24.7   \n",
       "1   21.6    0.026944       37.07     0.469     6.421  78.9      22.2   \n",
       "2   34.7    0.026924       37.07     0.469     7.185  61.1      22.2   \n",
       "3   33.4    0.031857       32.18     0.458     6.998  45.8      21.3   \n",
       "4   36.2    0.066770       32.18     0.458     7.147  54.2      21.3   \n",
       "\n",
       "   poor_prop  n_hos_beds  n_hot_rooms  rainfall     parks  avg_dist  \\\n",
       "0       4.98       5.480     11.19200        23  0.049347    4.0875   \n",
       "1       9.14       7.332     12.17280        42  0.046146    4.9675   \n",
       "2       4.03       7.394     46.19856        38  0.045764    4.9675   \n",
       "3       2.94       9.268     11.26720        45  0.047151    6.0650   \n",
       "4       5.33       8.824     11.28960        55  0.039474    6.0625   \n",
       "\n",
       "   airport_NO  airport_YES  waterbody_Lake  waterbody_Lake and River  \\\n",
       "0           0            1               0                         0   \n",
       "1           1            0               1                         0   \n",
       "2           1            0               0                         0   \n",
       "3           0            1               1                         0   \n",
       "4           1            0               1                         0   \n",
       "\n",
       "   waterbody_None  waterbody_River  \n",
       "0               0                1  \n",
       "1               0                0  \n",
       "2               1                0  \n",
       "3               0                0  \n",
       "4               0                0  "
      ]
     },
     "execution_count": 49,
     "metadata": {},
     "output_type": "execute_result"
    }
   ],
   "source": [
    "df.head()"
   ]
  },
  {
   "cell_type": "code",
   "execution_count": 50,
   "id": "d6cc3f3a",
   "metadata": {},
   "outputs": [],
   "source": [
    "del df['airport_NO']    # airport_No and airport_YES both resemble same conclusion and so one of the variable become redundant"
   ]
  },
  {
   "cell_type": "code",
   "execution_count": 51,
   "id": "a8ec9a7d",
   "metadata": {},
   "outputs": [],
   "source": [
    "del df['waterbody_None']"
   ]
  },
  {
   "cell_type": "code",
   "execution_count": 52,
   "id": "06860731",
   "metadata": {},
   "outputs": [
    {
     "data": {
      "text/html": [
       "<div>\n",
       "<style scoped>\n",
       "    .dataframe tbody tr th:only-of-type {\n",
       "        vertical-align: middle;\n",
       "    }\n",
       "\n",
       "    .dataframe tbody tr th {\n",
       "        vertical-align: top;\n",
       "    }\n",
       "\n",
       "    .dataframe thead th {\n",
       "        text-align: right;\n",
       "    }\n",
       "</style>\n",
       "<table border=\"1\" class=\"dataframe\">\n",
       "  <thead>\n",
       "    <tr style=\"text-align: right;\">\n",
       "      <th></th>\n",
       "      <th>price</th>\n",
       "      <th>crime_rate</th>\n",
       "      <th>resid_area</th>\n",
       "      <th>air_qual</th>\n",
       "      <th>room_num</th>\n",
       "      <th>age</th>\n",
       "      <th>teachers</th>\n",
       "      <th>poor_prop</th>\n",
       "      <th>n_hos_beds</th>\n",
       "      <th>n_hot_rooms</th>\n",
       "      <th>rainfall</th>\n",
       "      <th>parks</th>\n",
       "      <th>avg_dist</th>\n",
       "      <th>airport_YES</th>\n",
       "      <th>waterbody_Lake</th>\n",
       "      <th>waterbody_Lake and River</th>\n",
       "      <th>waterbody_River</th>\n",
       "    </tr>\n",
       "  </thead>\n",
       "  <tbody>\n",
       "    <tr>\n",
       "      <th>0</th>\n",
       "      <td>24.0</td>\n",
       "      <td>0.006300</td>\n",
       "      <td>32.31</td>\n",
       "      <td>0.538</td>\n",
       "      <td>6.575</td>\n",
       "      <td>65.2</td>\n",
       "      <td>24.7</td>\n",
       "      <td>4.98</td>\n",
       "      <td>5.480</td>\n",
       "      <td>11.19200</td>\n",
       "      <td>23</td>\n",
       "      <td>0.049347</td>\n",
       "      <td>4.0875</td>\n",
       "      <td>1</td>\n",
       "      <td>0</td>\n",
       "      <td>0</td>\n",
       "      <td>1</td>\n",
       "    </tr>\n",
       "    <tr>\n",
       "      <th>1</th>\n",
       "      <td>21.6</td>\n",
       "      <td>0.026944</td>\n",
       "      <td>37.07</td>\n",
       "      <td>0.469</td>\n",
       "      <td>6.421</td>\n",
       "      <td>78.9</td>\n",
       "      <td>22.2</td>\n",
       "      <td>9.14</td>\n",
       "      <td>7.332</td>\n",
       "      <td>12.17280</td>\n",
       "      <td>42</td>\n",
       "      <td>0.046146</td>\n",
       "      <td>4.9675</td>\n",
       "      <td>0</td>\n",
       "      <td>1</td>\n",
       "      <td>0</td>\n",
       "      <td>0</td>\n",
       "    </tr>\n",
       "    <tr>\n",
       "      <th>2</th>\n",
       "      <td>34.7</td>\n",
       "      <td>0.026924</td>\n",
       "      <td>37.07</td>\n",
       "      <td>0.469</td>\n",
       "      <td>7.185</td>\n",
       "      <td>61.1</td>\n",
       "      <td>22.2</td>\n",
       "      <td>4.03</td>\n",
       "      <td>7.394</td>\n",
       "      <td>46.19856</td>\n",
       "      <td>38</td>\n",
       "      <td>0.045764</td>\n",
       "      <td>4.9675</td>\n",
       "      <td>0</td>\n",
       "      <td>0</td>\n",
       "      <td>0</td>\n",
       "      <td>0</td>\n",
       "    </tr>\n",
       "    <tr>\n",
       "      <th>3</th>\n",
       "      <td>33.4</td>\n",
       "      <td>0.031857</td>\n",
       "      <td>32.18</td>\n",
       "      <td>0.458</td>\n",
       "      <td>6.998</td>\n",
       "      <td>45.8</td>\n",
       "      <td>21.3</td>\n",
       "      <td>2.94</td>\n",
       "      <td>9.268</td>\n",
       "      <td>11.26720</td>\n",
       "      <td>45</td>\n",
       "      <td>0.047151</td>\n",
       "      <td>6.0650</td>\n",
       "      <td>1</td>\n",
       "      <td>1</td>\n",
       "      <td>0</td>\n",
       "      <td>0</td>\n",
       "    </tr>\n",
       "    <tr>\n",
       "      <th>4</th>\n",
       "      <td>36.2</td>\n",
       "      <td>0.066770</td>\n",
       "      <td>32.18</td>\n",
       "      <td>0.458</td>\n",
       "      <td>7.147</td>\n",
       "      <td>54.2</td>\n",
       "      <td>21.3</td>\n",
       "      <td>5.33</td>\n",
       "      <td>8.824</td>\n",
       "      <td>11.28960</td>\n",
       "      <td>55</td>\n",
       "      <td>0.039474</td>\n",
       "      <td>6.0625</td>\n",
       "      <td>0</td>\n",
       "      <td>1</td>\n",
       "      <td>0</td>\n",
       "      <td>0</td>\n",
       "    </tr>\n",
       "  </tbody>\n",
       "</table>\n",
       "</div>"
      ],
      "text/plain": [
       "   price  crime_rate  resid_area  air_qual  room_num   age  teachers  \\\n",
       "0   24.0    0.006300       32.31     0.538     6.575  65.2      24.7   \n",
       "1   21.6    0.026944       37.07     0.469     6.421  78.9      22.2   \n",
       "2   34.7    0.026924       37.07     0.469     7.185  61.1      22.2   \n",
       "3   33.4    0.031857       32.18     0.458     6.998  45.8      21.3   \n",
       "4   36.2    0.066770       32.18     0.458     7.147  54.2      21.3   \n",
       "\n",
       "   poor_prop  n_hos_beds  n_hot_rooms  rainfall     parks  avg_dist  \\\n",
       "0       4.98       5.480     11.19200        23  0.049347    4.0875   \n",
       "1       9.14       7.332     12.17280        42  0.046146    4.9675   \n",
       "2       4.03       7.394     46.19856        38  0.045764    4.9675   \n",
       "3       2.94       9.268     11.26720        45  0.047151    6.0650   \n",
       "4       5.33       8.824     11.28960        55  0.039474    6.0625   \n",
       "\n",
       "   airport_YES  waterbody_Lake  waterbody_Lake and River  waterbody_River  \n",
       "0            1               0                         0                1  \n",
       "1            0               1                         0                0  \n",
       "2            0               0                         0                0  \n",
       "3            1               1                         0                0  \n",
       "4            0               1                         0                0  "
      ]
     },
     "execution_count": 52,
     "metadata": {},
     "output_type": "execute_result"
    }
   ],
   "source": [
    "df.head()"
   ]
  },
  {
   "cell_type": "markdown",
   "id": "4bf8bd93",
   "metadata": {},
   "source": [
    "## correlation"
   ]
  },
  {
   "cell_type": "code",
   "execution_count": 53,
   "id": "e912cbd4",
   "metadata": {},
   "outputs": [
    {
     "data": {
      "text/html": [
       "<div>\n",
       "<style scoped>\n",
       "    .dataframe tbody tr th:only-of-type {\n",
       "        vertical-align: middle;\n",
       "    }\n",
       "\n",
       "    .dataframe tbody tr th {\n",
       "        vertical-align: top;\n",
       "    }\n",
       "\n",
       "    .dataframe thead th {\n",
       "        text-align: right;\n",
       "    }\n",
       "</style>\n",
       "<table border=\"1\" class=\"dataframe\">\n",
       "  <thead>\n",
       "    <tr style=\"text-align: right;\">\n",
       "      <th></th>\n",
       "      <th>price</th>\n",
       "      <th>crime_rate</th>\n",
       "      <th>resid_area</th>\n",
       "      <th>air_qual</th>\n",
       "      <th>room_num</th>\n",
       "      <th>age</th>\n",
       "      <th>teachers</th>\n",
       "      <th>poor_prop</th>\n",
       "      <th>n_hos_beds</th>\n",
       "      <th>n_hot_rooms</th>\n",
       "      <th>rainfall</th>\n",
       "      <th>parks</th>\n",
       "      <th>avg_dist</th>\n",
       "      <th>airport_YES</th>\n",
       "      <th>waterbody_Lake</th>\n",
       "      <th>waterbody_Lake and River</th>\n",
       "      <th>waterbody_River</th>\n",
       "    </tr>\n",
       "  </thead>\n",
       "  <tbody>\n",
       "    <tr>\n",
       "      <th>price</th>\n",
       "      <td>1.000000</td>\n",
       "      <td>-0.466527</td>\n",
       "      <td>-0.484754</td>\n",
       "      <td>-0.429300</td>\n",
       "      <td>0.696304</td>\n",
       "      <td>-0.377999</td>\n",
       "      <td>0.505655</td>\n",
       "      <td>-0.740836</td>\n",
       "      <td>0.109646</td>\n",
       "      <td>0.017007</td>\n",
       "      <td>-0.047200</td>\n",
       "      <td>-0.391574</td>\n",
       "      <td>0.249289</td>\n",
       "      <td>0.182867</td>\n",
       "      <td>0.036233</td>\n",
       "      <td>-0.037497</td>\n",
       "      <td>0.071751</td>\n",
       "    </tr>\n",
       "    <tr>\n",
       "      <th>crime_rate</th>\n",
       "      <td>-0.466527</td>\n",
       "      <td>1.000000</td>\n",
       "      <td>0.660283</td>\n",
       "      <td>0.707587</td>\n",
       "      <td>-0.288784</td>\n",
       "      <td>0.559591</td>\n",
       "      <td>-0.390052</td>\n",
       "      <td>0.608970</td>\n",
       "      <td>-0.004133</td>\n",
       "      <td>0.056570</td>\n",
       "      <td>0.082151</td>\n",
       "      <td>0.638951</td>\n",
       "      <td>-0.586371</td>\n",
       "      <td>-0.134486</td>\n",
       "      <td>-0.025390</td>\n",
       "      <td>0.009076</td>\n",
       "      <td>-0.060099</td>\n",
       "    </tr>\n",
       "    <tr>\n",
       "      <th>resid_area</th>\n",
       "      <td>-0.484754</td>\n",
       "      <td>0.660283</td>\n",
       "      <td>1.000000</td>\n",
       "      <td>0.763651</td>\n",
       "      <td>-0.391676</td>\n",
       "      <td>0.644779</td>\n",
       "      <td>-0.383248</td>\n",
       "      <td>0.603800</td>\n",
       "      <td>0.005827</td>\n",
       "      <td>-0.003761</td>\n",
       "      <td>0.055845</td>\n",
       "      <td>0.707635</td>\n",
       "      <td>-0.708022</td>\n",
       "      <td>-0.115401</td>\n",
       "      <td>-0.026590</td>\n",
       "      <td>0.051649</td>\n",
       "      <td>-0.098976</td>\n",
       "    </tr>\n",
       "    <tr>\n",
       "      <th>air_qual</th>\n",
       "      <td>-0.429300</td>\n",
       "      <td>0.707587</td>\n",
       "      <td>0.763651</td>\n",
       "      <td>1.000000</td>\n",
       "      <td>-0.302188</td>\n",
       "      <td>0.731470</td>\n",
       "      <td>-0.188933</td>\n",
       "      <td>0.590879</td>\n",
       "      <td>-0.049954</td>\n",
       "      <td>0.007238</td>\n",
       "      <td>0.091956</td>\n",
       "      <td>0.915544</td>\n",
       "      <td>-0.769247</td>\n",
       "      <td>-0.073903</td>\n",
       "      <td>-0.046393</td>\n",
       "      <td>0.013849</td>\n",
       "      <td>-0.037772</td>\n",
       "    </tr>\n",
       "    <tr>\n",
       "      <th>room_num</th>\n",
       "      <td>0.696304</td>\n",
       "      <td>-0.288784</td>\n",
       "      <td>-0.391676</td>\n",
       "      <td>-0.302188</td>\n",
       "      <td>1.000000</td>\n",
       "      <td>-0.240265</td>\n",
       "      <td>0.355501</td>\n",
       "      <td>-0.613808</td>\n",
       "      <td>0.032207</td>\n",
       "      <td>0.014583</td>\n",
       "      <td>-0.064718</td>\n",
       "      <td>-0.282817</td>\n",
       "      <td>0.205241</td>\n",
       "      <td>0.163774</td>\n",
       "      <td>-0.004195</td>\n",
       "      <td>0.010554</td>\n",
       "      <td>0.046251</td>\n",
       "    </tr>\n",
       "    <tr>\n",
       "      <th>age</th>\n",
       "      <td>-0.377999</td>\n",
       "      <td>0.559591</td>\n",
       "      <td>0.644779</td>\n",
       "      <td>0.731470</td>\n",
       "      <td>-0.240265</td>\n",
       "      <td>1.000000</td>\n",
       "      <td>-0.261515</td>\n",
       "      <td>0.602339</td>\n",
       "      <td>-0.021102</td>\n",
       "      <td>0.013918</td>\n",
       "      <td>0.074684</td>\n",
       "      <td>0.673850</td>\n",
       "      <td>-0.747906</td>\n",
       "      <td>0.005101</td>\n",
       "      <td>0.003452</td>\n",
       "      <td>-0.004354</td>\n",
       "      <td>-0.088609</td>\n",
       "    </tr>\n",
       "    <tr>\n",
       "      <th>teachers</th>\n",
       "      <td>0.505655</td>\n",
       "      <td>-0.390052</td>\n",
       "      <td>-0.383248</td>\n",
       "      <td>-0.188933</td>\n",
       "      <td>0.355501</td>\n",
       "      <td>-0.261515</td>\n",
       "      <td>1.000000</td>\n",
       "      <td>-0.374044</td>\n",
       "      <td>-0.008130</td>\n",
       "      <td>-0.037007</td>\n",
       "      <td>-0.045928</td>\n",
       "      <td>-0.187004</td>\n",
       "      <td>0.232452</td>\n",
       "      <td>0.069437</td>\n",
       "      <td>0.048717</td>\n",
       "      <td>-0.046981</td>\n",
       "      <td>0.094256</td>\n",
       "    </tr>\n",
       "    <tr>\n",
       "      <th>poor_prop</th>\n",
       "      <td>-0.740836</td>\n",
       "      <td>0.608970</td>\n",
       "      <td>0.603800</td>\n",
       "      <td>0.590879</td>\n",
       "      <td>-0.613808</td>\n",
       "      <td>0.602339</td>\n",
       "      <td>-0.374044</td>\n",
       "      <td>1.000000</td>\n",
       "      <td>-0.066434</td>\n",
       "      <td>0.017036</td>\n",
       "      <td>0.061444</td>\n",
       "      <td>0.552310</td>\n",
       "      <td>-0.496967</td>\n",
       "      <td>-0.095054</td>\n",
       "      <td>0.003197</td>\n",
       "      <td>0.020620</td>\n",
       "      <td>-0.109004</td>\n",
       "    </tr>\n",
       "    <tr>\n",
       "      <th>n_hos_beds</th>\n",
       "      <td>0.109646</td>\n",
       "      <td>-0.004133</td>\n",
       "      <td>0.005827</td>\n",
       "      <td>-0.049954</td>\n",
       "      <td>0.032207</td>\n",
       "      <td>-0.021102</td>\n",
       "      <td>-0.008130</td>\n",
       "      <td>-0.066434</td>\n",
       "      <td>1.000000</td>\n",
       "      <td>-0.003141</td>\n",
       "      <td>0.058966</td>\n",
       "      <td>-0.072002</td>\n",
       "      <td>-0.028028</td>\n",
       "      <td>-0.006412</td>\n",
       "      <td>0.042869</td>\n",
       "      <td>0.059560</td>\n",
       "      <td>-0.074934</td>\n",
       "    </tr>\n",
       "    <tr>\n",
       "      <th>n_hot_rooms</th>\n",
       "      <td>0.017007</td>\n",
       "      <td>0.056570</td>\n",
       "      <td>-0.003761</td>\n",
       "      <td>0.007238</td>\n",
       "      <td>0.014583</td>\n",
       "      <td>0.013918</td>\n",
       "      <td>-0.037007</td>\n",
       "      <td>0.017036</td>\n",
       "      <td>-0.003141</td>\n",
       "      <td>1.000000</td>\n",
       "      <td>0.014869</td>\n",
       "      <td>0.023757</td>\n",
       "      <td>-0.020700</td>\n",
       "      <td>-0.055338</td>\n",
       "      <td>0.037925</td>\n",
       "      <td>0.014755</td>\n",
       "      <td>-0.064096</td>\n",
       "    </tr>\n",
       "    <tr>\n",
       "      <th>rainfall</th>\n",
       "      <td>-0.047200</td>\n",
       "      <td>0.082151</td>\n",
       "      <td>0.055845</td>\n",
       "      <td>0.091956</td>\n",
       "      <td>-0.064718</td>\n",
       "      <td>0.074684</td>\n",
       "      <td>-0.045928</td>\n",
       "      <td>0.061444</td>\n",
       "      <td>0.058966</td>\n",
       "      <td>0.014869</td>\n",
       "      <td>1.000000</td>\n",
       "      <td>0.078278</td>\n",
       "      <td>-0.037285</td>\n",
       "      <td>-0.013171</td>\n",
       "      <td>-0.016170</td>\n",
       "      <td>0.109234</td>\n",
       "      <td>-0.037016</td>\n",
       "    </tr>\n",
       "    <tr>\n",
       "      <th>parks</th>\n",
       "      <td>-0.391574</td>\n",
       "      <td>0.638951</td>\n",
       "      <td>0.707635</td>\n",
       "      <td>0.915544</td>\n",
       "      <td>-0.282817</td>\n",
       "      <td>0.673850</td>\n",
       "      <td>-0.187004</td>\n",
       "      <td>0.552310</td>\n",
       "      <td>-0.072002</td>\n",
       "      <td>0.023757</td>\n",
       "      <td>0.078278</td>\n",
       "      <td>1.000000</td>\n",
       "      <td>-0.707924</td>\n",
       "      <td>-0.052503</td>\n",
       "      <td>-0.034991</td>\n",
       "      <td>0.013265</td>\n",
       "      <td>-0.048862</td>\n",
       "    </tr>\n",
       "    <tr>\n",
       "      <th>avg_dist</th>\n",
       "      <td>0.249289</td>\n",
       "      <td>-0.586371</td>\n",
       "      <td>-0.708022</td>\n",
       "      <td>-0.769247</td>\n",
       "      <td>0.205241</td>\n",
       "      <td>-0.747906</td>\n",
       "      <td>0.232452</td>\n",
       "      <td>-0.496967</td>\n",
       "      <td>-0.028028</td>\n",
       "      <td>-0.020700</td>\n",
       "      <td>-0.037285</td>\n",
       "      <td>-0.707924</td>\n",
       "      <td>1.000000</td>\n",
       "      <td>0.021402</td>\n",
       "      <td>0.034890</td>\n",
       "      <td>-0.021320</td>\n",
       "      <td>0.032247</td>\n",
       "    </tr>\n",
       "    <tr>\n",
       "      <th>airport_YES</th>\n",
       "      <td>0.182867</td>\n",
       "      <td>-0.134486</td>\n",
       "      <td>-0.115401</td>\n",
       "      <td>-0.073903</td>\n",
       "      <td>0.163774</td>\n",
       "      <td>0.005101</td>\n",
       "      <td>0.069437</td>\n",
       "      <td>-0.095054</td>\n",
       "      <td>-0.006412</td>\n",
       "      <td>-0.055338</td>\n",
       "      <td>-0.013171</td>\n",
       "      <td>-0.052503</td>\n",
       "      <td>0.021402</td>\n",
       "      <td>1.000000</td>\n",
       "      <td>0.035491</td>\n",
       "      <td>-0.070341</td>\n",
       "      <td>0.017341</td>\n",
       "    </tr>\n",
       "    <tr>\n",
       "      <th>waterbody_Lake</th>\n",
       "      <td>0.036233</td>\n",
       "      <td>-0.025390</td>\n",
       "      <td>-0.026590</td>\n",
       "      <td>-0.046393</td>\n",
       "      <td>-0.004195</td>\n",
       "      <td>0.003452</td>\n",
       "      <td>0.048717</td>\n",
       "      <td>0.003197</td>\n",
       "      <td>0.042869</td>\n",
       "      <td>0.037925</td>\n",
       "      <td>-0.016170</td>\n",
       "      <td>-0.034991</td>\n",
       "      <td>0.034890</td>\n",
       "      <td>0.035491</td>\n",
       "      <td>1.000000</td>\n",
       "      <td>-0.196747</td>\n",
       "      <td>-0.366563</td>\n",
       "    </tr>\n",
       "    <tr>\n",
       "      <th>waterbody_Lake and River</th>\n",
       "      <td>-0.037497</td>\n",
       "      <td>0.009076</td>\n",
       "      <td>0.051649</td>\n",
       "      <td>0.013849</td>\n",
       "      <td>0.010554</td>\n",
       "      <td>-0.004354</td>\n",
       "      <td>-0.046981</td>\n",
       "      <td>0.020620</td>\n",
       "      <td>0.059560</td>\n",
       "      <td>0.014755</td>\n",
       "      <td>0.109234</td>\n",
       "      <td>0.013265</td>\n",
       "      <td>-0.021320</td>\n",
       "      <td>-0.070341</td>\n",
       "      <td>-0.196747</td>\n",
       "      <td>1.000000</td>\n",
       "      <td>-0.304095</td>\n",
       "    </tr>\n",
       "    <tr>\n",
       "      <th>waterbody_River</th>\n",
       "      <td>0.071751</td>\n",
       "      <td>-0.060099</td>\n",
       "      <td>-0.098976</td>\n",
       "      <td>-0.037772</td>\n",
       "      <td>0.046251</td>\n",
       "      <td>-0.088609</td>\n",
       "      <td>0.094256</td>\n",
       "      <td>-0.109004</td>\n",
       "      <td>-0.074934</td>\n",
       "      <td>-0.064096</td>\n",
       "      <td>-0.037016</td>\n",
       "      <td>-0.048862</td>\n",
       "      <td>0.032247</td>\n",
       "      <td>0.017341</td>\n",
       "      <td>-0.366563</td>\n",
       "      <td>-0.304095</td>\n",
       "      <td>1.000000</td>\n",
       "    </tr>\n",
       "  </tbody>\n",
       "</table>\n",
       "</div>"
      ],
      "text/plain": [
       "                             price  crime_rate  resid_area  air_qual  \\\n",
       "price                     1.000000   -0.466527   -0.484754 -0.429300   \n",
       "crime_rate               -0.466527    1.000000    0.660283  0.707587   \n",
       "resid_area               -0.484754    0.660283    1.000000  0.763651   \n",
       "air_qual                 -0.429300    0.707587    0.763651  1.000000   \n",
       "room_num                  0.696304   -0.288784   -0.391676 -0.302188   \n",
       "age                      -0.377999    0.559591    0.644779  0.731470   \n",
       "teachers                  0.505655   -0.390052   -0.383248 -0.188933   \n",
       "poor_prop                -0.740836    0.608970    0.603800  0.590879   \n",
       "n_hos_beds                0.109646   -0.004133    0.005827 -0.049954   \n",
       "n_hot_rooms               0.017007    0.056570   -0.003761  0.007238   \n",
       "rainfall                 -0.047200    0.082151    0.055845  0.091956   \n",
       "parks                    -0.391574    0.638951    0.707635  0.915544   \n",
       "avg_dist                  0.249289   -0.586371   -0.708022 -0.769247   \n",
       "airport_YES               0.182867   -0.134486   -0.115401 -0.073903   \n",
       "waterbody_Lake            0.036233   -0.025390   -0.026590 -0.046393   \n",
       "waterbody_Lake and River -0.037497    0.009076    0.051649  0.013849   \n",
       "waterbody_River           0.071751   -0.060099   -0.098976 -0.037772   \n",
       "\n",
       "                          room_num       age  teachers  poor_prop  n_hos_beds  \\\n",
       "price                     0.696304 -0.377999  0.505655  -0.740836    0.109646   \n",
       "crime_rate               -0.288784  0.559591 -0.390052   0.608970   -0.004133   \n",
       "resid_area               -0.391676  0.644779 -0.383248   0.603800    0.005827   \n",
       "air_qual                 -0.302188  0.731470 -0.188933   0.590879   -0.049954   \n",
       "room_num                  1.000000 -0.240265  0.355501  -0.613808    0.032207   \n",
       "age                      -0.240265  1.000000 -0.261515   0.602339   -0.021102   \n",
       "teachers                  0.355501 -0.261515  1.000000  -0.374044   -0.008130   \n",
       "poor_prop                -0.613808  0.602339 -0.374044   1.000000   -0.066434   \n",
       "n_hos_beds                0.032207 -0.021102 -0.008130  -0.066434    1.000000   \n",
       "n_hot_rooms               0.014583  0.013918 -0.037007   0.017036   -0.003141   \n",
       "rainfall                 -0.064718  0.074684 -0.045928   0.061444    0.058966   \n",
       "parks                    -0.282817  0.673850 -0.187004   0.552310   -0.072002   \n",
       "avg_dist                  0.205241 -0.747906  0.232452  -0.496967   -0.028028   \n",
       "airport_YES               0.163774  0.005101  0.069437  -0.095054   -0.006412   \n",
       "waterbody_Lake           -0.004195  0.003452  0.048717   0.003197    0.042869   \n",
       "waterbody_Lake and River  0.010554 -0.004354 -0.046981   0.020620    0.059560   \n",
       "waterbody_River           0.046251 -0.088609  0.094256  -0.109004   -0.074934   \n",
       "\n",
       "                          n_hot_rooms  rainfall     parks  avg_dist  \\\n",
       "price                        0.017007 -0.047200 -0.391574  0.249289   \n",
       "crime_rate                   0.056570  0.082151  0.638951 -0.586371   \n",
       "resid_area                  -0.003761  0.055845  0.707635 -0.708022   \n",
       "air_qual                     0.007238  0.091956  0.915544 -0.769247   \n",
       "room_num                     0.014583 -0.064718 -0.282817  0.205241   \n",
       "age                          0.013918  0.074684  0.673850 -0.747906   \n",
       "teachers                    -0.037007 -0.045928 -0.187004  0.232452   \n",
       "poor_prop                    0.017036  0.061444  0.552310 -0.496967   \n",
       "n_hos_beds                  -0.003141  0.058966 -0.072002 -0.028028   \n",
       "n_hot_rooms                  1.000000  0.014869  0.023757 -0.020700   \n",
       "rainfall                     0.014869  1.000000  0.078278 -0.037285   \n",
       "parks                        0.023757  0.078278  1.000000 -0.707924   \n",
       "avg_dist                    -0.020700 -0.037285 -0.707924  1.000000   \n",
       "airport_YES                 -0.055338 -0.013171 -0.052503  0.021402   \n",
       "waterbody_Lake               0.037925 -0.016170 -0.034991  0.034890   \n",
       "waterbody_Lake and River     0.014755  0.109234  0.013265 -0.021320   \n",
       "waterbody_River             -0.064096 -0.037016 -0.048862  0.032247   \n",
       "\n",
       "                          airport_YES  waterbody_Lake  \\\n",
       "price                        0.182867        0.036233   \n",
       "crime_rate                  -0.134486       -0.025390   \n",
       "resid_area                  -0.115401       -0.026590   \n",
       "air_qual                    -0.073903       -0.046393   \n",
       "room_num                     0.163774       -0.004195   \n",
       "age                          0.005101        0.003452   \n",
       "teachers                     0.069437        0.048717   \n",
       "poor_prop                   -0.095054        0.003197   \n",
       "n_hos_beds                  -0.006412        0.042869   \n",
       "n_hot_rooms                 -0.055338        0.037925   \n",
       "rainfall                    -0.013171       -0.016170   \n",
       "parks                       -0.052503       -0.034991   \n",
       "avg_dist                     0.021402        0.034890   \n",
       "airport_YES                  1.000000        0.035491   \n",
       "waterbody_Lake               0.035491        1.000000   \n",
       "waterbody_Lake and River    -0.070341       -0.196747   \n",
       "waterbody_River              0.017341       -0.366563   \n",
       "\n",
       "                          waterbody_Lake and River  waterbody_River  \n",
       "price                                    -0.037497         0.071751  \n",
       "crime_rate                                0.009076        -0.060099  \n",
       "resid_area                                0.051649        -0.098976  \n",
       "air_qual                                  0.013849        -0.037772  \n",
       "room_num                                  0.010554         0.046251  \n",
       "age                                      -0.004354        -0.088609  \n",
       "teachers                                 -0.046981         0.094256  \n",
       "poor_prop                                 0.020620        -0.109004  \n",
       "n_hos_beds                                0.059560        -0.074934  \n",
       "n_hot_rooms                               0.014755        -0.064096  \n",
       "rainfall                                  0.109234        -0.037016  \n",
       "parks                                     0.013265        -0.048862  \n",
       "avg_dist                                 -0.021320         0.032247  \n",
       "airport_YES                              -0.070341         0.017341  \n",
       "waterbody_Lake                           -0.196747        -0.366563  \n",
       "waterbody_Lake and River                  1.000000        -0.304095  \n",
       "waterbody_River                          -0.304095         1.000000  "
      ]
     },
     "execution_count": 53,
     "metadata": {},
     "output_type": "execute_result"
    }
   ],
   "source": [
    "df.corr()"
   ]
  },
  {
   "cell_type": "markdown",
   "id": "d1e66e19",
   "metadata": {},
   "source": [
    "## Observations"
   ]
  },
  {
   "cell_type": "markdown",
   "id": "3168a237",
   "metadata": {},
   "source": [
    "Our dependent variable is price and price is highly correlated with  'poor_prop', 'room_num', 'teachers', 'resid_area', 'crime_rate', 'air_qual'."
   ]
  },
  {
   "cell_type": "markdown",
   "id": "eb5abb5a",
   "metadata": {},
   "source": [
    "# Building the Linear Regression Model"
   ]
  },
  {
   "cell_type": "markdown",
   "id": "082fd357",
   "metadata": {},
   "source": [
    "## Simple Linear Regression"
   ]
  },
  {
   "cell_type": "code",
   "execution_count": 54,
   "id": "7c22bd4c",
   "metadata": {},
   "outputs": [],
   "source": [
    "y = df['price']     "
   ]
  },
  {
   "cell_type": "code",
   "execution_count": 55,
   "id": "3c34d885",
   "metadata": {},
   "outputs": [],
   "source": [
    "x = df[['room_num']]          # independent variable is two dimensional array"
   ]
  },
  {
   "cell_type": "code",
   "execution_count": 56,
   "id": "d578b10a",
   "metadata": {},
   "outputs": [],
   "source": [
    "import statsmodels.api as sm"
   ]
  },
  {
   "cell_type": "code",
   "execution_count": 57,
   "id": "01add381",
   "metadata": {},
   "outputs": [],
   "source": [
    "x_sm = sm.add_constant(x)"
   ]
  },
  {
   "cell_type": "code",
   "execution_count": 58,
   "id": "3a128af6",
   "metadata": {},
   "outputs": [],
   "source": [
    "lm_0 = sm.OLS(y, x_sm).fit()"
   ]
  },
  {
   "cell_type": "code",
   "execution_count": 59,
   "id": "10326578",
   "metadata": {},
   "outputs": [
    {
     "data": {
      "text/html": [
       "<table class=\"simpletable\">\n",
       "<caption>OLS Regression Results</caption>\n",
       "<tr>\n",
       "  <th>Dep. Variable:</th>          <td>price</td>      <th>  R-squared:         </th> <td>   0.485</td>\n",
       "</tr>\n",
       "<tr>\n",
       "  <th>Model:</th>                   <td>OLS</td>       <th>  Adj. R-squared:    </th> <td>   0.484</td>\n",
       "</tr>\n",
       "<tr>\n",
       "  <th>Method:</th>             <td>Least Squares</td>  <th>  F-statistic:       </th> <td>   474.3</td>\n",
       "</tr>\n",
       "<tr>\n",
       "  <th>Date:</th>             <td>Wed, 10 Aug 2022</td> <th>  Prob (F-statistic):</th> <td>1.31e-74</td>\n",
       "</tr>\n",
       "<tr>\n",
       "  <th>Time:</th>                 <td>01:32:12</td>     <th>  Log-Likelihood:    </th> <td> -1671.6</td>\n",
       "</tr>\n",
       "<tr>\n",
       "  <th>No. Observations:</th>      <td>   506</td>      <th>  AIC:               </th> <td>   3347.</td>\n",
       "</tr>\n",
       "<tr>\n",
       "  <th>Df Residuals:</th>          <td>   504</td>      <th>  BIC:               </th> <td>   3356.</td>\n",
       "</tr>\n",
       "<tr>\n",
       "  <th>Df Model:</th>              <td>     1</td>      <th>                     </th>     <td> </td>   \n",
       "</tr>\n",
       "<tr>\n",
       "  <th>Covariance Type:</th>      <td>nonrobust</td>    <th>                     </th>     <td> </td>   \n",
       "</tr>\n",
       "</table>\n",
       "<table class=\"simpletable\">\n",
       "<tr>\n",
       "      <td></td>        <th>coef</th>     <th>std err</th>      <th>t</th>      <th>P>|t|</th>  <th>[0.025</th>    <th>0.975]</th>  \n",
       "</tr>\n",
       "<tr>\n",
       "  <th>const</th>    <td>  -34.6592</td> <td>    2.642</td> <td>  -13.118</td> <td> 0.000</td> <td>  -39.850</td> <td>  -29.468</td>\n",
       "</tr>\n",
       "<tr>\n",
       "  <th>room_num</th> <td>    9.0997</td> <td>    0.418</td> <td>   21.779</td> <td> 0.000</td> <td>    8.279</td> <td>    9.921</td>\n",
       "</tr>\n",
       "</table>\n",
       "<table class=\"simpletable\">\n",
       "<tr>\n",
       "  <th>Omnibus:</th>       <td>103.753</td> <th>  Durbin-Watson:     </th> <td>   0.681</td> \n",
       "</tr>\n",
       "<tr>\n",
       "  <th>Prob(Omnibus):</th> <td> 0.000</td>  <th>  Jarque-Bera (JB):  </th> <td> 633.429</td> \n",
       "</tr>\n",
       "<tr>\n",
       "  <th>Skew:</th>          <td> 0.729</td>  <th>  Prob(JB):          </th> <td>2.84e-138</td>\n",
       "</tr>\n",
       "<tr>\n",
       "  <th>Kurtosis:</th>      <td> 8.284</td>  <th>  Cond. No.          </th> <td>    58.4</td> \n",
       "</tr>\n",
       "</table><br/><br/>Notes:<br/>[1] Standard Errors assume that the covariance matrix of the errors is correctly specified."
      ],
      "text/plain": [
       "<class 'statsmodels.iolib.summary.Summary'>\n",
       "\"\"\"\n",
       "                            OLS Regression Results                            \n",
       "==============================================================================\n",
       "Dep. Variable:                  price   R-squared:                       0.485\n",
       "Model:                            OLS   Adj. R-squared:                  0.484\n",
       "Method:                 Least Squares   F-statistic:                     474.3\n",
       "Date:                Wed, 10 Aug 2022   Prob (F-statistic):           1.31e-74\n",
       "Time:                        01:32:12   Log-Likelihood:                -1671.6\n",
       "No. Observations:                 506   AIC:                             3347.\n",
       "Df Residuals:                     504   BIC:                             3356.\n",
       "Df Model:                           1                                         \n",
       "Covariance Type:            nonrobust                                         \n",
       "==============================================================================\n",
       "                 coef    std err          t      P>|t|      [0.025      0.975]\n",
       "------------------------------------------------------------------------------\n",
       "const        -34.6592      2.642    -13.118      0.000     -39.850     -29.468\n",
       "room_num       9.0997      0.418     21.779      0.000       8.279       9.921\n",
       "==============================================================================\n",
       "Omnibus:                      103.753   Durbin-Watson:                   0.681\n",
       "Prob(Omnibus):                  0.000   Jarque-Bera (JB):              633.429\n",
       "Skew:                           0.729   Prob(JB):                    2.84e-138\n",
       "Kurtosis:                       8.284   Cond. No.                         58.4\n",
       "==============================================================================\n",
       "\n",
       "Notes:\n",
       "[1] Standard Errors assume that the covariance matrix of the errors is correctly specified.\n",
       "\"\"\""
      ]
     },
     "execution_count": 59,
     "metadata": {},
     "output_type": "execute_result"
    }
   ],
   "source": [
    "lm_0.summary()"
   ]
  },
  {
   "cell_type": "markdown",
   "id": "b2500362",
   "metadata": {},
   "source": [
    "## observation\n",
    "Thus, from the hypothesis testing it is observed that 'price' is strongly dependent on 'room_num'. "
   ]
  },
  {
   "cell_type": "code",
   "execution_count": 60,
   "id": "d0d6274f",
   "metadata": {},
   "outputs": [],
   "source": [
    "from sklearn.linear_model import LinearRegression"
   ]
  },
  {
   "cell_type": "code",
   "execution_count": 61,
   "id": "77eda084",
   "metadata": {},
   "outputs": [],
   "source": [
    "lm_1 = LinearRegression()       # creating linear regression model"
   ]
  },
  {
   "cell_type": "code",
   "execution_count": 62,
   "id": "a88dfedd",
   "metadata": {},
   "outputs": [
    {
     "data": {
      "text/html": [
       "<style>#sk-container-id-1 {color: black;background-color: white;}#sk-container-id-1 pre{padding: 0;}#sk-container-id-1 div.sk-toggleable {background-color: white;}#sk-container-id-1 label.sk-toggleable__label {cursor: pointer;display: block;width: 100%;margin-bottom: 0;padding: 0.3em;box-sizing: border-box;text-align: center;}#sk-container-id-1 label.sk-toggleable__label-arrow:before {content: \"▸\";float: left;margin-right: 0.25em;color: #696969;}#sk-container-id-1 label.sk-toggleable__label-arrow:hover:before {color: black;}#sk-container-id-1 div.sk-estimator:hover label.sk-toggleable__label-arrow:before {color: black;}#sk-container-id-1 div.sk-toggleable__content {max-height: 0;max-width: 0;overflow: hidden;text-align: left;background-color: #f0f8ff;}#sk-container-id-1 div.sk-toggleable__content pre {margin: 0.2em;color: black;border-radius: 0.25em;background-color: #f0f8ff;}#sk-container-id-1 input.sk-toggleable__control:checked~div.sk-toggleable__content {max-height: 200px;max-width: 100%;overflow: auto;}#sk-container-id-1 input.sk-toggleable__control:checked~label.sk-toggleable__label-arrow:before {content: \"▾\";}#sk-container-id-1 div.sk-estimator input.sk-toggleable__control:checked~label.sk-toggleable__label {background-color: #d4ebff;}#sk-container-id-1 div.sk-label input.sk-toggleable__control:checked~label.sk-toggleable__label {background-color: #d4ebff;}#sk-container-id-1 input.sk-hidden--visually {border: 0;clip: rect(1px 1px 1px 1px);clip: rect(1px, 1px, 1px, 1px);height: 1px;margin: -1px;overflow: hidden;padding: 0;position: absolute;width: 1px;}#sk-container-id-1 div.sk-estimator {font-family: monospace;background-color: #f0f8ff;border: 1px dotted black;border-radius: 0.25em;box-sizing: border-box;margin-bottom: 0.5em;}#sk-container-id-1 div.sk-estimator:hover {background-color: #d4ebff;}#sk-container-id-1 div.sk-parallel-item::after {content: \"\";width: 100%;border-bottom: 1px solid gray;flex-grow: 1;}#sk-container-id-1 div.sk-label:hover label.sk-toggleable__label {background-color: #d4ebff;}#sk-container-id-1 div.sk-serial::before {content: \"\";position: absolute;border-left: 1px solid gray;box-sizing: border-box;top: 0;bottom: 0;left: 50%;z-index: 0;}#sk-container-id-1 div.sk-serial {display: flex;flex-direction: column;align-items: center;background-color: white;padding-right: 0.2em;padding-left: 0.2em;position: relative;}#sk-container-id-1 div.sk-item {position: relative;z-index: 1;}#sk-container-id-1 div.sk-parallel {display: flex;align-items: stretch;justify-content: center;background-color: white;position: relative;}#sk-container-id-1 div.sk-item::before, #sk-container-id-1 div.sk-parallel-item::before {content: \"\";position: absolute;border-left: 1px solid gray;box-sizing: border-box;top: 0;bottom: 0;left: 50%;z-index: -1;}#sk-container-id-1 div.sk-parallel-item {display: flex;flex-direction: column;z-index: 1;position: relative;background-color: white;}#sk-container-id-1 div.sk-parallel-item:first-child::after {align-self: flex-end;width: 50%;}#sk-container-id-1 div.sk-parallel-item:last-child::after {align-self: flex-start;width: 50%;}#sk-container-id-1 div.sk-parallel-item:only-child::after {width: 0;}#sk-container-id-1 div.sk-dashed-wrapped {border: 1px dashed gray;margin: 0 0.4em 0.5em 0.4em;box-sizing: border-box;padding-bottom: 0.4em;background-color: white;}#sk-container-id-1 div.sk-label label {font-family: monospace;font-weight: bold;display: inline-block;line-height: 1.2em;}#sk-container-id-1 div.sk-label-container {text-align: center;}#sk-container-id-1 div.sk-container {/* jupyter's `normalize.less` sets `[hidden] { display: none; }` but bootstrap.min.css set `[hidden] { display: none !important; }` so we also need the `!important` here to be able to override the default hidden behavior on the sphinx rendered scikit-learn.org. See: https://github.com/scikit-learn/scikit-learn/issues/21755 */display: inline-block !important;position: relative;}#sk-container-id-1 div.sk-text-repr-fallback {display: none;}</style><div id=\"sk-container-id-1\" class=\"sk-top-container\"><div class=\"sk-text-repr-fallback\"><pre>LinearRegression()</pre><b>In a Jupyter environment, please rerun this cell to show the HTML representation or trust the notebook. <br />On GitHub, the HTML representation is unable to render, please try loading this page with nbviewer.org.</b></div><div class=\"sk-container\" hidden><div class=\"sk-item\"><div class=\"sk-estimator sk-toggleable\"><input class=\"sk-toggleable__control sk-hidden--visually\" id=\"sk-estimator-id-1\" type=\"checkbox\" checked><label for=\"sk-estimator-id-1\" class=\"sk-toggleable__label sk-toggleable__label-arrow\">LinearRegression</label><div class=\"sk-toggleable__content\"><pre>LinearRegression()</pre></div></div></div></div></div>"
      ],
      "text/plain": [
       "LinearRegression()"
      ]
     },
     "execution_count": 62,
     "metadata": {},
     "output_type": "execute_result"
    }
   ],
   "source": [
    "lm_1.fit(x, y)"
   ]
  },
  {
   "cell_type": "code",
   "execution_count": 63,
   "id": "7bd55da0",
   "metadata": {},
   "outputs": [
    {
     "name": "stdout",
     "output_type": "stream",
     "text": [
      "-34.659243123097184 [9.09966966]\n"
     ]
    }
   ],
   "source": [
    "print(lm_1.intercept_, lm_1.coef_)"
   ]
  },
  {
   "cell_type": "code",
   "execution_count": 64,
   "id": "e157b1df",
   "metadata": {},
   "outputs": [
    {
     "data": {
      "text/plain": [
       "array([25.17108491, 23.76973578, 30.72188341, 29.02024518, 30.37609596,\n",
       "       23.85163281, 20.04797089, 21.50391804, 16.58099675, 19.97517353,\n",
       "       23.36935032, 20.02067188, 18.92871152, 19.4746917 , 20.81234314,\n",
       "       18.42822969, 19.34729633, 19.84777816, 14.98855456, 17.45456504,\n",
       "       16.0259169 , 19.62028642, 21.23092795, 18.23713663, 19.24719996,\n",
       "       16.28980732, 18.23713663, 20.36645933, 24.44311134, 26.07195221,\n",
       "       17.32716966, 20.59395107, 19.48379137, 17.21797363, 20.81234314,\n",
       "       19.32909699, 18.49192738, 18.57382441, 19.62938609, 25.3530783 ,\n",
       "       29.25683659, 26.9455205 , 21.47661903, 21.85880515, 20.56665206,\n",
       "       17.0450799 , 17.99144555, 20.21176495, 14.46987339, 16.31710633,\n",
       "       19.60208708, 20.98523687, 24.58870605, 19.92057552, 18.91961185,\n",
       "       31.30426226, 23.42394834, 27.3641053 , 21.25822696, 19.27449897,\n",
       "       17.58196041, 19.62938609, 24.08822422, 26.87272314, 29.98481016,\n",
       "       22.57767906, 18.00054522, 18.82861516, 16.24430897, 18.89231284,\n",
       "       23.7333371 , 19.58388774, 20.53025338, 22.16819392, 22.42298467,\n",
       "       22.54128038, 22.47758269, 21.21272861, 22.04989822, 18.79221648,\n",
       "       26.5542347 , 25.57147038, 22.68687509, 21.45841969, 23.47854635,\n",
       "       25.67156674, 20.0752699 , 21.03983488, 29.10214221, 29.75731842,\n",
       "       23.7333371 , 23.62414107, 23.96082885, 21.85880515, 22.2045926 ,\n",
       "       25.62606839, 21.42202101, 38.76599139, 36.50017364, 32.8239071 ,\n",
       "       26.5542347 , 27.04561686, 23.62414107, 21.1854296 , 21.45841969,\n",
       "       18.58292408, 18.44642903, 21.0944329 , 24.25201828, 22.02259921,\n",
       "       21.71321044, 26.44503866, 19.14710359, 20.77594446, 22.25009095,\n",
       "       19.28359864, 21.54031672, 20.12986792, 18.77401714, 17.49096372,\n",
       "       18.7558178 , 19.97517353, 19.58388774, 18.62842242, 18.83771483,\n",
       "       19.81137948, 16.4172027 , 17.14517627, 23.86073248, 16.63559477,\n",
       "       24.10642356, 22.90526717, 23.32385197, 18.31903366, 17.72755513,\n",
       "       22.98716419, 19.41099401, 24.07002488, 18.63752209, 21.31282497,\n",
       "       21.52211738, 11.01199892, 14.50627207, 15.09775059,  9.95643723,\n",
       "       21.12173191, 16.55369774, 10.16572964, 12.53164375, 16.27160798,\n",
       "       21.04893455, 14.51537174, 10.94830123, 17.29077098, 21.11263224,\n",
       "       21.32192464, 13.31421534, 28.51976335, 20.53935305, 24.57960638,\n",
       "       22.21369227, 33.48818298, 36.33637959, 41.55049031, 18.61022308,\n",
       "       20.85784149, 37.49203764, 18.81951549, 22.84156948, 23.59684206,\n",
       "       18.80131615, 18.8468145 , 16.04411624, 23.72423744, 18.65572143,\n",
       "       24.90719449, 20.12076825, 22.8051708 , 27.76449077, 28.85645113,\n",
       "       35.99969181, 21.24912729, 30.44889332, 25.06188888, 16.33530567,\n",
       "       21.33102431, 36.60027001, 27.05471653, 24.99819119, 30.72188341,\n",
       "       28.5925607 , 26.66343074, 30.65818572, 27.21851059, 25.43497533,\n",
       "       37.00065547, 31.65004971, 30.01210917, 31.53175401, 28.81095278,\n",
       "       30.26689992, 21.41292134, 34.58924301, 36.80046274, 38.44750295,\n",
       "       18.94691086, 22.90526717, 17.96414654, 20.52115371, 13.96939156,\n",
       "       19.57478807, 14.51537174, 18.18253861, 23.35115098, 14.58816909,\n",
       "       21.59491473, 18.91961185, 25.78076278, 19.49289104, 23.33295164,\n",
       "       28.5925607 , 21.43112068, 27.93738449, 25.56237071, 40.55862631,\n",
       "       44.73537469, 38.50210097, 30.52169067, 35.28081791, 24.96179251,\n",
       "       19.76588113, 32.78750842, 41.20470286, 40.38573259, 26.54513503,\n",
       "       20.72134645, 25.68066641, 32.29612626, 24.31571596, 25.45317467,\n",
       "       28.10117854, 20.80324347, 23.19645659, 23.51494503, 16.2352093 ,\n",
       "       16.34440534, 20.92153918, 21.9953002 , 23.87893182, 26.47233767,\n",
       "       24.37031398, 23.92443017, 28.64715872, 40.49492862, 20.92153918,\n",
       "       18.81041582, 33.16969455, 44.54428162, 32.06863452, 27.60069671,\n",
       "       30.88567746, 33.77027274, 41.75978271, 32.0140365 , 30.91297647,\n",
       "       15.9349202 , 29.16583989, 40.84071607, 33.31528926, 19.21080128,\n",
       "       18.62842242, 22.12269557, 24.83439713, 35.32631626, 26.83632446,\n",
       "       27.70989275, 31.46805632, 27.455102  , 24.32481563, 27.32770662,\n",
       "       36.50017364, 28.74725509, 34.90773145, 37.43743962, 29.83921545,\n",
       "       24.06092521, 22.03169888, 21.84060581, 22.8051708 , 25.08008821,\n",
       "       27.77359044, 30.38519563, 25.67156674, 21.0944329 , 20.02067188,\n",
       "       26.10835089, 24.9344935 , 18.02784423, 23.07816089, 29.41153097,\n",
       "       27.86458713, 25.30757996, 24.44311134, 28.87465046, 31.18596656,\n",
       "       25.54417137, 32.86030578, 27.6643944 , 25.71706509, 19.6839841 ,\n",
       "       10.59341411, 21.04893455, 20.14806726, 22.35928699, 25.09828755,\n",
       "       17.2543723 , 19.15620326, 17.95504687, 23.41484867, 20.96703753,\n",
       "       23.81523413, 23.36025065, 20.31186131, 17.28167131, 23.71513777,\n",
       "       23.86073248, 22.77787179, 20.69404744, 18.73761846, 22.96896485,\n",
       "       21.24912729, 17.26347197, 20.22086461, 22.81427047, 22.75967245,\n",
       "       20.27546263, 18.74671813, 18.98330954, 20.47565537, 19.80227981,\n",
       "       19.64758543, 31.23146491, 24.85259647, 26.27214494, 27.89188614,\n",
       "       20.06617023, 19.01060855, 24.6342044 , 25.71706509, 28.48336467,\n",
       "       24.39761299, 25.20748359, 18.88321317, 26.56333437, 16.87218618,\n",
       "       19.356396  , 21.86790482, 23.53314437, 21.0944329 , 20.95793786,\n",
       "       23.56044338, 22.22279194, 14.13318561, 18.14613993, 45.23585652,\n",
       "       -2.25531945, 10.50241741,  0.49278079, 10.5661151 , 26.15384924,\n",
       "       29.18403923, 21.9043035 , 18.80131615,  9.98373624,  2.99518994,\n",
       "       31.88664112, 25.84446047, 27.16391257, 23.39664933, 21.96800119,\n",
       "       28.74725509, 24.89809482, 15.71652813, 15.57093342,  5.08811397,\n",
       "       13.35971369,  7.67242015, 10.83910519,  9.74714483, 14.38797636,\n",
       "       17.32716966, 20.40285801, 11.1666933 , 21.6950111 , 18.91051218,\n",
       "       24.22471927, 23.62414107, 17.63655843, 14.96125555, 18.59202375,\n",
       "       19.82047915, 23.05996155, 23.6150414 , 14.0148899 , 15.67102978,\n",
       "       17.05417957,  2.99518994, 16.37170435, 16.45360137, 27.69169341,\n",
       "       17.72755513, 25.91725782,  7.45402808, 12.24955399,  6.46216408,\n",
       "       23.88803149, 27.05471653, 13.60540477, 19.54748906, 27.43690266,\n",
       "       23.67873909, 19.99337287, 16.73569113, 20.87604083, 15.98041855,\n",
       "       18.99240921, 18.4555287 , 21.77690813, 21.6950111 , 23.39664933,\n",
       "       23.1054599 , 27.51879968, 23.80613446, 23.90623083, 21.83150615,\n",
       "       25.66246707, 24.13372257, 21.32192464, 19.34729633, 16.54459807,\n",
       "       18.28263498, 23.63324074, 21.93160251, 24.35211464, 18.61022308,\n",
       "       24.11552323, 23.04176221, 22.22279194, 21.62221374, 23.7333371 ,\n",
       "       26.75442743, 25.89905848, 22.64137675, 32.6146147 , 26.56333437,\n",
       "       24.71610143, 19.72038278, 19.356396  , 22.67777542, 20.6758481 ,\n",
       "       26.31764329, 23.36025065, 22.82337014, 24.60690539, 21.84060581,\n",
       "       17.74575447, 19.50199071, 19.96607386, 19.2653993 , 17.32716966,\n",
       "       21.45841969, 22.02259921, 23.9153305 , 28.85645113, 14.72466414,\n",
       "       21.41292134, 24.34301497, 13.60540477, 21.62221374, 22.02259921,\n",
       "       22.14089491, 26.7635271 , 29.59352437, 17.77305348, 18.76491747,\n",
       "       22.77787179, 20.9761372 , 19.07430624, 14.97035522, 14.60636843,\n",
       "       11.68537447, 19.78408047, 19.78408047, 17.27257164, 19.2653993 ,\n",
       "       16.93588387, 14.38797636, 18.0642429 , 20.11166858, 16.01681723,\n",
       "       20.18446594, 25.33487897, 21.03073521, 28.82005245, 27.16391257,\n",
       "       20.21176495])"
      ]
     },
     "execution_count": 64,
     "metadata": {},
     "output_type": "execute_result"
    }
   ],
   "source": [
    "lm_1.predict(x)                 # predicting the value of y depending upon the linear model generated"
   ]
  },
  {
   "cell_type": "code",
   "execution_count": 65,
   "id": "0289925f",
   "metadata": {},
   "outputs": [
    {
     "data": {
      "text/plain": [
       "<seaborn.axisgrid.JointGrid at 0x2639bff9bd0>"
      ]
     },
     "execution_count": 65,
     "metadata": {},
     "output_type": "execute_result"
    },
    {
     "data": {
      "image/png": "[encoded data removed]",
      "text/plain": [
       "<Figure size 432x432 with 3 Axes>"
      ]
     },
     "metadata": {
      "needs_background": "light"
     },
     "output_type": "display_data"
    }
   ],
   "source": [
    "sns.jointplot(x = df['room_num'], y = df['price'], data = df, kind = 'reg')"
   ]
  },
  {
   "cell_type": "markdown",
   "id": "886614f8",
   "metadata": {},
   "source": [
    "## Multi-variable Linear Regression Model"
   ]
  },
  {
   "cell_type": "code",
   "execution_count": 66,
   "id": "3577d0d9",
   "metadata": {},
   "outputs": [],
   "source": [
    "x_multi = df[['poor_prop', 'room_num', 'teachers', 'resid_area', 'crime_rate', 'air_qual']]"
   ]
  },
  {
   "cell_type": "code",
   "execution_count": 67,
   "id": "84e480e4",
   "metadata": {},
   "outputs": [
    {
     "data": {
      "text/html": [
       "<div>\n",
       "<style scoped>\n",
       "    .dataframe tbody tr th:only-of-type {\n",
       "        vertical-align: middle;\n",
       "    }\n",
       "\n",
       "    .dataframe tbody tr th {\n",
       "        vertical-align: top;\n",
       "    }\n",
       "\n",
       "    .dataframe thead th {\n",
       "        text-align: right;\n",
       "    }\n",
       "</style>\n",
       "<table border=\"1\" class=\"dataframe\">\n",
       "  <thead>\n",
       "    <tr style=\"text-align: right;\">\n",
       "      <th></th>\n",
       "      <th>poor_prop</th>\n",
       "      <th>room_num</th>\n",
       "      <th>teachers</th>\n",
       "      <th>resid_area</th>\n",
       "      <th>crime_rate</th>\n",
       "      <th>air_qual</th>\n",
       "    </tr>\n",
       "  </thead>\n",
       "  <tbody>\n",
       "    <tr>\n",
       "      <th>0</th>\n",
       "      <td>4.98</td>\n",
       "      <td>6.575</td>\n",
       "      <td>24.7</td>\n",
       "      <td>32.31</td>\n",
       "      <td>0.006300</td>\n",
       "      <td>0.538</td>\n",
       "    </tr>\n",
       "    <tr>\n",
       "      <th>1</th>\n",
       "      <td>9.14</td>\n",
       "      <td>6.421</td>\n",
       "      <td>22.2</td>\n",
       "      <td>37.07</td>\n",
       "      <td>0.026944</td>\n",
       "      <td>0.469</td>\n",
       "    </tr>\n",
       "    <tr>\n",
       "      <th>2</th>\n",
       "      <td>4.03</td>\n",
       "      <td>7.185</td>\n",
       "      <td>22.2</td>\n",
       "      <td>37.07</td>\n",
       "      <td>0.026924</td>\n",
       "      <td>0.469</td>\n",
       "    </tr>\n",
       "    <tr>\n",
       "      <th>3</th>\n",
       "      <td>2.94</td>\n",
       "      <td>6.998</td>\n",
       "      <td>21.3</td>\n",
       "      <td>32.18</td>\n",
       "      <td>0.031857</td>\n",
       "      <td>0.458</td>\n",
       "    </tr>\n",
       "    <tr>\n",
       "      <th>4</th>\n",
       "      <td>5.33</td>\n",
       "      <td>7.147</td>\n",
       "      <td>21.3</td>\n",
       "      <td>32.18</td>\n",
       "      <td>0.066770</td>\n",
       "      <td>0.458</td>\n",
       "    </tr>\n",
       "  </tbody>\n",
       "</table>\n",
       "</div>"
      ],
      "text/plain": [
       "   poor_prop  room_num  teachers  resid_area  crime_rate  air_qual\n",
       "0       4.98     6.575      24.7       32.31    0.006300     0.538\n",
       "1       9.14     6.421      22.2       37.07    0.026944     0.469\n",
       "2       4.03     7.185      22.2       37.07    0.026924     0.469\n",
       "3       2.94     6.998      21.3       32.18    0.031857     0.458\n",
       "4       5.33     7.147      21.3       32.18    0.066770     0.458"
      ]
     },
     "execution_count": 67,
     "metadata": {},
     "output_type": "execute_result"
    }
   ],
   "source": [
    "x_multi.head()"
   ]
  },
  {
   "cell_type": "code",
   "execution_count": 68,
   "id": "31930c40",
   "metadata": {},
   "outputs": [],
   "source": [
    "y_multi = df['price']              # multiple linear regression"
   ]
  },
  {
   "cell_type": "code",
   "execution_count": 69,
   "id": "47553d40",
   "metadata": {},
   "outputs": [
    {
     "data": {
      "text/plain": [
       "0    24.0\n",
       "1    21.6\n",
       "2    34.7\n",
       "3    33.4\n",
       "4    36.2\n",
       "Name: price, dtype: float64"
      ]
     },
     "execution_count": 69,
     "metadata": {},
     "output_type": "execute_result"
    }
   ],
   "source": [
    "y_multi.head()"
   ]
  },
  {
   "cell_type": "code",
   "execution_count": 70,
   "id": "b6d5af92",
   "metadata": {},
   "outputs": [],
   "source": [
    "x_multi_sm = sm.add_constant(x_multi)"
   ]
  },
  {
   "cell_type": "code",
   "execution_count": 71,
   "id": "6da1e9b6",
   "metadata": {},
   "outputs": [],
   "source": [
    "lm_multi_0 = sm.OLS(y_multi, x_multi_sm).fit()"
   ]
  },
  {
   "cell_type": "code",
   "execution_count": 72,
   "id": "f6b301da",
   "metadata": {},
   "outputs": [
    {
     "data": {
      "text/html": [
       "<table class=\"simpletable\">\n",
       "<caption>OLS Regression Results</caption>\n",
       "<tr>\n",
       "  <th>Dep. Variable:</th>          <td>price</td>      <th>  R-squared:         </th> <td>   0.683</td> \n",
       "</tr>\n",
       "<tr>\n",
       "  <th>Model:</th>                   <td>OLS</td>       <th>  Adj. R-squared:    </th> <td>   0.679</td> \n",
       "</tr>\n",
       "<tr>\n",
       "  <th>Method:</th>             <td>Least Squares</td>  <th>  F-statistic:       </th> <td>   178.8</td> \n",
       "</tr>\n",
       "<tr>\n",
       "  <th>Date:</th>             <td>Wed, 10 Aug 2022</td> <th>  Prob (F-statistic):</th> <td>7.04e-121</td>\n",
       "</tr>\n",
       "<tr>\n",
       "  <th>Time:</th>                 <td>01:32:13</td>     <th>  Log-Likelihood:    </th> <td> -1549.1</td> \n",
       "</tr>\n",
       "<tr>\n",
       "  <th>No. Observations:</th>      <td>   506</td>      <th>  AIC:               </th> <td>   3112.</td> \n",
       "</tr>\n",
       "<tr>\n",
       "  <th>Df Residuals:</th>          <td>   499</td>      <th>  BIC:               </th> <td>   3142.</td> \n",
       "</tr>\n",
       "<tr>\n",
       "  <th>Df Model:</th>              <td>     6</td>      <th>                     </th>     <td> </td>    \n",
       "</tr>\n",
       "<tr>\n",
       "  <th>Covariance Type:</th>      <td>nonrobust</td>    <th>                     </th>     <td> </td>    \n",
       "</tr>\n",
       "</table>\n",
       "<table class=\"simpletable\">\n",
       "<tr>\n",
       "       <td></td>         <th>coef</th>     <th>std err</th>      <th>t</th>      <th>P>|t|</th>  <th>[0.025</th>    <th>0.975]</th>  \n",
       "</tr>\n",
       "<tr>\n",
       "  <th>const</th>      <td>  -19.6978</td> <td>    4.343</td> <td>   -4.536</td> <td> 0.000</td> <td>  -28.230</td> <td>  -11.165</td>\n",
       "</tr>\n",
       "<tr>\n",
       "  <th>poor_prop</th>  <td>   -0.5580</td> <td>    0.052</td> <td>  -10.709</td> <td> 0.000</td> <td>   -0.660</td> <td>   -0.456</td>\n",
       "</tr>\n",
       "<tr>\n",
       "  <th>room_num</th>   <td>    4.5735</td> <td>    0.433</td> <td>   10.566</td> <td> 0.000</td> <td>    3.723</td> <td>    5.424</td>\n",
       "</tr>\n",
       "<tr>\n",
       "  <th>teachers</th>   <td>    0.9528</td> <td>    0.127</td> <td>    7.474</td> <td> 0.000</td> <td>    0.702</td> <td>    1.203</td>\n",
       "</tr>\n",
       "<tr>\n",
       "  <th>resid_area</th> <td>    0.0633</td> <td>    0.058</td> <td>    1.090</td> <td> 0.276</td> <td>   -0.051</td> <td>    0.177</td>\n",
       "</tr>\n",
       "<tr>\n",
       "  <th>crime_rate</th> <td>   -0.0320</td> <td>    0.362</td> <td>   -0.088</td> <td> 0.930</td> <td>   -0.744</td> <td>    0.680</td>\n",
       "</tr>\n",
       "<tr>\n",
       "  <th>air_qual</th>   <td>   -4.6190</td> <td>    3.618</td> <td>   -1.277</td> <td> 0.202</td> <td>  -11.727</td> <td>    2.489</td>\n",
       "</tr>\n",
       "</table>\n",
       "<table class=\"simpletable\">\n",
       "<tr>\n",
       "  <th>Omnibus:</th>       <td>213.353</td> <th>  Durbin-Watson:     </th> <td>   0.901</td> \n",
       "</tr>\n",
       "<tr>\n",
       "  <th>Prob(Omnibus):</th> <td> 0.000</td>  <th>  Jarque-Bera (JB):  </th> <td>1142.495</td> \n",
       "</tr>\n",
       "<tr>\n",
       "  <th>Skew:</th>          <td> 1.790</td>  <th>  Prob(JB):          </th> <td>8.13e-249</td>\n",
       "</tr>\n",
       "<tr>\n",
       "  <th>Kurtosis:</th>      <td> 9.432</td>  <th>  Cond. No.          </th> <td>    933.</td> \n",
       "</tr>\n",
       "</table><br/><br/>Notes:<br/>[1] Standard Errors assume that the covariance matrix of the errors is correctly specified."
      ],
      "text/plain": [
       "<class 'statsmodels.iolib.summary.Summary'>\n",
       "\"\"\"\n",
       "                            OLS Regression Results                            \n",
       "==============================================================================\n",
       "Dep. Variable:                  price   R-squared:                       0.683\n",
       "Model:                            OLS   Adj. R-squared:                  0.679\n",
       "Method:                 Least Squares   F-statistic:                     178.8\n",
       "Date:                Wed, 10 Aug 2022   Prob (F-statistic):          7.04e-121\n",
       "Time:                        01:32:13   Log-Likelihood:                -1549.1\n",
       "No. Observations:                 506   AIC:                             3112.\n",
       "Df Residuals:                     499   BIC:                             3142.\n",
       "Df Model:                           6                                         \n",
       "Covariance Type:            nonrobust                                         \n",
       "==============================================================================\n",
       "                 coef    std err          t      P>|t|      [0.025      0.975]\n",
       "------------------------------------------------------------------------------\n",
       "const        -19.6978      4.343     -4.536      0.000     -28.230     -11.165\n",
       "poor_prop     -0.5580      0.052    -10.709      0.000      -0.660      -0.456\n",
       "room_num       4.5735      0.433     10.566      0.000       3.723       5.424\n",
       "teachers       0.9528      0.127      7.474      0.000       0.702       1.203\n",
       "resid_area     0.0633      0.058      1.090      0.276      -0.051       0.177\n",
       "crime_rate    -0.0320      0.362     -0.088      0.930      -0.744       0.680\n",
       "air_qual      -4.6190      3.618     -1.277      0.202     -11.727       2.489\n",
       "==============================================================================\n",
       "Omnibus:                      213.353   Durbin-Watson:                   0.901\n",
       "Prob(Omnibus):                  0.000   Jarque-Bera (JB):             1142.495\n",
       "Skew:                           1.790   Prob(JB):                    8.13e-249\n",
       "Kurtosis:                       9.432   Cond. No.                         933.\n",
       "==============================================================================\n",
       "\n",
       "Notes:\n",
       "[1] Standard Errors assume that the covariance matrix of the errors is correctly specified.\n",
       "\"\"\""
      ]
     },
     "execution_count": 72,
     "metadata": {},
     "output_type": "execute_result"
    }
   ],
   "source": [
    "lm_multi_0.summary()"
   ]
  },
  {
   "cell_type": "markdown",
   "id": "3a98ea3b",
   "metadata": {},
   "source": [
    "## observations\n",
    "Thus, from the hypothesis testing it is observed that the 'price' is dependent on 'poor_prop', 'room_num', 'teachers', 'resid_area' but not dependent on 'crime_rate' and 'air_qual'."
   ]
  },
  {
   "cell_type": "code",
   "execution_count": 73,
   "id": "8ac747d5",
   "metadata": {},
   "outputs": [],
   "source": [
    "x_multi_modified = df[['poor_prop', 'room_num', 'teachers', 'resid_area']]"
   ]
  },
  {
   "cell_type": "code",
   "execution_count": 74,
   "id": "4122dbc7",
   "metadata": {},
   "outputs": [],
   "source": [
    "lm_multi_1 = LinearRegression()"
   ]
  },
  {
   "cell_type": "code",
   "execution_count": 75,
   "id": "69e6843d",
   "metadata": {},
   "outputs": [
    {
     "data": {
      "text/html": [
       "<style>#sk-container-id-2 {color: black;background-color: white;}#sk-container-id-2 pre{padding: 0;}#sk-container-id-2 div.sk-toggleable {background-color: white;}#sk-container-id-2 label.sk-toggleable__label {cursor: pointer;display: block;width: 100%;margin-bottom: 0;padding: 0.3em;box-sizing: border-box;text-align: center;}#sk-container-id-2 label.sk-toggleable__label-arrow:before {content: \"▸\";float: left;margin-right: 0.25em;color: #696969;}#sk-container-id-2 label.sk-toggleable__label-arrow:hover:before {color: black;}#sk-container-id-2 div.sk-estimator:hover label.sk-toggleable__label-arrow:before {color: black;}#sk-container-id-2 div.sk-toggleable__content {max-height: 0;max-width: 0;overflow: hidden;text-align: left;background-color: #f0f8ff;}#sk-container-id-2 div.sk-toggleable__content pre {margin: 0.2em;color: black;border-radius: 0.25em;background-color: #f0f8ff;}#sk-container-id-2 input.sk-toggleable__control:checked~div.sk-toggleable__content {max-height: 200px;max-width: 100%;overflow: auto;}#sk-container-id-2 input.sk-toggleable__control:checked~label.sk-toggleable__label-arrow:before {content: \"▾\";}#sk-container-id-2 div.sk-estimator input.sk-toggleable__control:checked~label.sk-toggleable__label {background-color: #d4ebff;}#sk-container-id-2 div.sk-label input.sk-toggleable__control:checked~label.sk-toggleable__label {background-color: #d4ebff;}#sk-container-id-2 input.sk-hidden--visually {border: 0;clip: rect(1px 1px 1px 1px);clip: rect(1px, 1px, 1px, 1px);height: 1px;margin: -1px;overflow: hidden;padding: 0;position: absolute;width: 1px;}#sk-container-id-2 div.sk-estimator {font-family: monospace;background-color: #f0f8ff;border: 1px dotted black;border-radius: 0.25em;box-sizing: border-box;margin-bottom: 0.5em;}#sk-container-id-2 div.sk-estimator:hover {background-color: #d4ebff;}#sk-container-id-2 div.sk-parallel-item::after {content: \"\";width: 100%;border-bottom: 1px solid gray;flex-grow: 1;}#sk-container-id-2 div.sk-label:hover label.sk-toggleable__label {background-color: #d4ebff;}#sk-container-id-2 div.sk-serial::before {content: \"\";position: absolute;border-left: 1px solid gray;box-sizing: border-box;top: 0;bottom: 0;left: 50%;z-index: 0;}#sk-container-id-2 div.sk-serial {display: flex;flex-direction: column;align-items: center;background-color: white;padding-right: 0.2em;padding-left: 0.2em;position: relative;}#sk-container-id-2 div.sk-item {position: relative;z-index: 1;}#sk-container-id-2 div.sk-parallel {display: flex;align-items: stretch;justify-content: center;background-color: white;position: relative;}#sk-container-id-2 div.sk-item::before, #sk-container-id-2 div.sk-parallel-item::before {content: \"\";position: absolute;border-left: 1px solid gray;box-sizing: border-box;top: 0;bottom: 0;left: 50%;z-index: -1;}#sk-container-id-2 div.sk-parallel-item {display: flex;flex-direction: column;z-index: 1;position: relative;background-color: white;}#sk-container-id-2 div.sk-parallel-item:first-child::after {align-self: flex-end;width: 50%;}#sk-container-id-2 div.sk-parallel-item:last-child::after {align-self: flex-start;width: 50%;}#sk-container-id-2 div.sk-parallel-item:only-child::after {width: 0;}#sk-container-id-2 div.sk-dashed-wrapped {border: 1px dashed gray;margin: 0 0.4em 0.5em 0.4em;box-sizing: border-box;padding-bottom: 0.4em;background-color: white;}#sk-container-id-2 div.sk-label label {font-family: monospace;font-weight: bold;display: inline-block;line-height: 1.2em;}#sk-container-id-2 div.sk-label-container {text-align: center;}#sk-container-id-2 div.sk-container {/* jupyter's `normalize.less` sets `[hidden] { display: none; }` but bootstrap.min.css set `[hidden] { display: none !important; }` so we also need the `!important` here to be able to override the default hidden behavior on the sphinx rendered scikit-learn.org. See: https://github.com/scikit-learn/scikit-learn/issues/21755 */display: inline-block !important;position: relative;}#sk-container-id-2 div.sk-text-repr-fallback {display: none;}</style><div id=\"sk-container-id-2\" class=\"sk-top-container\"><div class=\"sk-text-repr-fallback\"><pre>LinearRegression()</pre><b>In a Jupyter environment, please rerun this cell to show the HTML representation or trust the notebook. <br />On GitHub, the HTML representation is unable to render, please try loading this page with nbviewer.org.</b></div><div class=\"sk-container\" hidden><div class=\"sk-item\"><div class=\"sk-estimator sk-toggleable\"><input class=\"sk-toggleable__control sk-hidden--visually\" id=\"sk-estimator-id-2\" type=\"checkbox\" checked><label for=\"sk-estimator-id-2\" class=\"sk-toggleable__label sk-toggleable__label-arrow\">LinearRegression</label><div class=\"sk-toggleable__content\"><pre>LinearRegression()</pre></div></div></div></div></div>"
      ],
      "text/plain": [
       "LinearRegression()"
      ]
     },
     "execution_count": 75,
     "metadata": {},
     "output_type": "execute_result"
    }
   ],
   "source": [
    "lm_multi_1.fit(x_multi_modified, y_multi)"
   ]
  },
  {
   "cell_type": "code",
   "execution_count": 76,
   "id": "a5c2eabe",
   "metadata": {},
   "outputs": [
    {
     "name": "stdout",
     "output_type": "stream",
     "text": [
      "-18.48813105581792 [-0.58164825  4.496636    0.91812998  0.00817476]\n"
     ]
    }
   ],
   "source": [
    "print(lm_multi_1.intercept_, lm_multi_1.coef_)"
   ]
  },
  {
   "cell_type": "code",
   "execution_count": 77,
   "id": "c4b80ff1",
   "metadata": {},
   "outputs": [
    {
     "data": {
      "text/plain": [
       "array([31.12257924, 25.75402748, 32.16167996, 31.08851406, 30.3683735 ,\n",
       "       27.21408328, 24.39495835, 21.20574385, 12.5028956 , 21.64268792,\n",
       "       21.3714115 , 23.89288391, 21.93406585, 21.21419682, 20.71190581,\n",
       "       20.57493755, 22.12841298, 17.67019359, 17.00230177, 18.45936591,\n",
       "       12.08814007, 18.04636223, 15.99800684, 13.84390162, 16.42532897,\n",
       "       14.84177613, 16.79285827, 16.40839991, 21.02867701, 22.31052642,\n",
       "       11.81215477, 18.9870044 ,  9.90563493, 14.23020022, 14.84889141,\n",
       "       21.95112311, 20.53118112, 22.10720223, 21.83777038, 28.84724172,\n",
       "       32.13735548, 29.73131997, 26.46464293, 25.70541499, 23.83961487,\n",
       "       21.71552889, 19.89148491, 18.28399972,  8.46102688, 17.87172497,\n",
       "       22.09410429, 25.11581894, 29.31032705, 25.17136078, 17.01026594,\n",
       "       31.85614368, 27.95062868, 32.9808992 , 24.07880797, 21.72585145,\n",
       "       18.60359952, 18.86501637, 25.55287604, 25.31768099, 28.6782081 ,\n",
       "       29.2955102 , 23.79392152, 22.89915058, 18.71968118, 22.52928974,\n",
       "       25.88882135, 22.00034685, 25.00398338, 24.63844839, 25.68198487,\n",
       "       24.48408091, 22.69021025, 23.05397988, 22.26365851, 22.53840316,\n",
       "       28.24952168, 26.64130386, 25.50669438, 24.4401464 , 24.6671621 ,\n",
       "       27.54814448, 21.1008799 , 24.14840859, 30.47633619, 30.68376433,\n",
       "       25.89806524, 26.19891104, 26.11637297, 26.21186415, 23.83511697,\n",
       "       27.90184888, 23.09647274, 35.814213  , 35.06680552, 31.72624615,\n",
       "       24.13311405, 25.39381684, 21.98140287, 19.14187284, 19.92240148,\n",
       "       16.09344073, 14.75218152, 18.71883511, 21.33776762, 18.32828553,\n",
       "       19.65860295, 26.50679104, 19.38151704, 19.67456442, 24.26516385,\n",
       "       19.71070829, 22.98960552, 23.3046949 , 19.68573949, 20.07541474,\n",
       "       19.19267876, 19.85339281, 17.53120485, 12.70832914, 17.36605759,\n",
       "       19.4583633 , 10.53959732, 14.79771607, 19.16320029, 13.87700896,\n",
       "       20.90740809, 20.51161254, 21.38153681, 16.63414234, 15.01570298,\n",
       "       17.81833547, 16.08605642, 19.73194152, 13.13295708, 16.11848207,\n",
       "       12.90650965,  1.75100048, 13.84138009, 14.36632073, 10.15639091,\n",
       "       16.54041917, 20.76848593, 10.12021796, 11.9931377 , 17.8371786 ,\n",
       "       24.47302716, 21.72139408, 20.63342474, 21.63293094, 23.91122239,\n",
       "       24.07280984, 19.46432412, 33.6962402 , 28.68245765, 30.12058171,\n",
       "       30.05077154, 37.81491746, 39.11185136, 40.87411623, 24.69878341,\n",
       "       26.87386881, 38.64759024, 24.51138192, 27.10380921, 27.34906738,\n",
       "       23.17041414, 24.58885313, 19.78530391, 26.86677732, 24.01316212,\n",
       "       29.60925502, 24.46374583, 28.01214978, 30.096378  , 30.6147192 ,\n",
       "       32.67882486, 24.2904627 , 31.52959311, 28.3673671 , 19.22741268,\n",
       "       22.17883389, 34.7845289 , 31.16563134, 31.3824859 , 33.72810189,\n",
       "       32.84456706, 32.12975601, 35.16237904, 31.83486928, 31.33159999,\n",
       "       38.9485127 , 37.32016037, 33.8758993 , 35.78431754, 31.59783815,\n",
       "       32.38128121, 28.3890194 , 37.41286878, 38.10371115, 39.45853514,\n",
       "       21.6588301 , 23.55670193, 16.99114247, 20.23230125, 12.09142855,\n",
       "       18.24654916, 11.84355977, 18.27980769, 24.70185782,  8.63975208,\n",
       "       23.78165873, 22.15665146, 27.76901133, 19.87487073, 26.08828116,\n",
       "       28.165845  , 17.7926255 , 27.7141246 , 27.89574303, 37.31870211,\n",
       "       39.09765039, 36.88992711, 31.06765348, 34.83861585, 29.83249435,\n",
       "       22.67571047, 32.83294541, 38.60931585, 37.3437792 , 28.119638  ,\n",
       "       23.59572641, 26.82580169, 32.89258416, 28.72506977, 28.69968453,\n",
       "       27.67579611, 23.47621282, 25.34517303, 29.00989426, 18.87301431,\n",
       "       15.46035036, 23.13148702, 23.0862583 , 24.38350035, 27.38672044,\n",
       "       26.73188537, 27.85515767, 30.22381065, 36.07261423, 27.09875896,\n",
       "       24.49672209, 35.62369818, 42.73975557, 35.02186678, 33.33168545,\n",
       "       33.39033724, 36.17101128, 40.90428283, 32.98238401, 34.27048305,\n",
       "       25.5021468 , 29.51590212, 39.56020077, 38.33093732, 20.14257602,\n",
       "       20.23286268, 25.68793621, 26.36485472, 32.21837152, 30.71067117,\n",
       "       31.46225476, 31.53370529, 30.65000401, 27.34076702, 32.63948649,\n",
       "       37.80609217, 33.49219025, 37.45541706, 39.79447311, 31.76541836,\n",
       "       28.68314234, 22.28006316, 27.0514873 , 27.26057251, 27.27378335,\n",
       "       29.80921121, 30.96596665, 27.97363019, 26.46637058, 24.87716772,\n",
       "       30.28762448, 29.0561124 , 20.72823793, 30.5526622 , 33.81609995,\n",
       "       32.27807965, 27.85737529, 27.91296292, 32.31890449, 30.11337589,\n",
       "       26.16216507, 31.20831511, 28.02418881, 28.86414614, 22.72452645,\n",
       "       16.67938626, 25.71979838, 21.93597045, 25.25054932, 25.80136217,\n",
       "       20.63400281, 17.60114217, 18.39772554, 24.34130439, 21.75320295,\n",
       "       25.25480849, 25.22192061, 23.23277951, 19.38554077, 25.83352561,\n",
       "       26.51038597, 25.35292265, 20.46104861, 23.57962737, 27.20029801,\n",
       "       25.33254937, 21.44337046, 25.58035912, 25.07550317, 24.42615972,\n",
       "       22.46570129, 20.66911607, 20.34397593, 22.27380316, 21.22562474,\n",
       "       21.41092364, 33.63061415, 28.2762365 , 28.28736399, 30.58260121,\n",
       "       22.17536722, 20.40903019, 27.68250675, 29.24163927, 28.18161769,\n",
       "       26.11027978, 28.08446689, 23.62151389, 30.52656407, 19.08124633,\n",
       "       21.75131562, 17.780142  , 21.12156332, 20.95761525, 20.19800429,\n",
       "       24.32248566, 19.93893135, 18.26801496, 17.66269671, 36.48759324,\n",
       "       11.95523366, 14.25777735,  9.70118208, 20.53615604, 27.96551883,\n",
       "       29.91076777, 22.49202995, 21.33674844,  1.92063487, -3.39405598,\n",
       "       25.15059497, 16.46467578, 18.27998451, 14.99333898, 15.39831529,\n",
       "       21.40644163, 17.25338586, 11.25052654, 10.62019804,  1.90946848,\n",
       "        5.89221391,  4.5533865 ,  3.9603008 ,  4.21756259, 12.19355038,\n",
       "       15.82132828, 16.38147163,  7.79238018, 19.10811117, 17.04579562,\n",
       "       19.22396188, 17.61847534, 14.33978231,  6.81158446,  8.96636414,\n",
       "       11.43468442, 16.78711806, 17.06722934, 12.63736842,  9.02941297,\n",
       "       12.27215395,  5.11545797, 18.2457898 ,  9.98613895, 19.38999584,\n",
       "       20.09071804, 17.67557834,  0.90322937, 11.58471008, -1.1050059 ,\n",
       "       12.11852269, 15.57952532,  8.4390963 , 14.87692209, 17.54241121,\n",
       "       20.17562506, 17.95896666, 17.27980818, 13.98043011, 15.12674374,\n",
       "       12.40981338, 17.20485166, 19.52665226, 15.41464476, 14.76649616,\n",
       "       18.36841856, 19.3569081 , 21.97770624, 19.59006305, 19.17556071,\n",
       "       16.35729361, 18.63806265, 12.3627568 ,  6.98390951, 12.07850716,\n",
       "       13.38523379, 17.53572474, 18.39908319, 18.28066331, 12.56994362,\n",
       "       15.17989523, 18.24969487, 18.63022278, 17.35045925, 17.70733386,\n",
       "       20.28789925, 19.69653747, 18.35429998, 23.59088661, 19.45477661,\n",
       "       18.87931549, 15.89881187, 16.92295831, 18.97720071, 18.87786262,\n",
       "       20.66534194, 20.23345265, 20.35203897, 23.38547817, 20.31427144,\n",
       "       17.76148533, 16.87275835, 14.67661357, 16.18583053, 17.18820168,\n",
       "       18.33975259, 20.60778105, 20.67642544, 24.68854907, 13.93619268,\n",
       "       13.77459655, 18.37504688,  9.44534778, 17.40862408, 20.46818547,\n",
       "       21.9051481 , 25.93438394, 27.75744096, 19.93289026, 18.72461068,\n",
       "       22.31297634, 18.86339009, 19.97681151, 14.2747514 , 10.65734479,\n",
       "        5.8927131 , 16.64765536, 19.39303512, 19.6101348 , 19.67589384,\n",
       "       16.19234553, 12.87425263, 18.78569728, 20.48378532, 17.19230593,\n",
       "       19.69963437, 23.32088871, 21.53715235, 27.38714276, 26.08017047,\n",
       "       21.83043302])"
      ]
     },
     "execution_count": 77,
     "metadata": {},
     "output_type": "execute_result"
    }
   ],
   "source": [
    "lm_multi_1.predict(x_multi_modified)                 # predicting the value of y depending upon the linear model generated"
   ]
  },
  {
   "cell_type": "markdown",
   "id": "c3866d0e",
   "metadata": {},
   "source": [
    "## Train-Test-Split"
   ]
  },
  {
   "cell_type": "code",
   "execution_count": 78,
   "id": "1306b119",
   "metadata": {},
   "outputs": [],
   "source": [
    "from sklearn.model_selection import train_test_split"
   ]
  },
  {
   "cell_type": "code",
   "execution_count": 79,
   "id": "5f0a202b",
   "metadata": {},
   "outputs": [],
   "source": [
    "x_train, x_test, y_train, y_test = train_test_split(x_multi_modified, y_multi, test_size = 0.2, random_state = 0)"
   ]
  },
  {
   "cell_type": "code",
   "execution_count": 80,
   "id": "59be08b0",
   "metadata": {},
   "outputs": [
    {
     "name": "stdout",
     "output_type": "stream",
     "text": [
      "(404, 4) (102, 4) (404,) (102,)\n"
     ]
    }
   ],
   "source": [
    "print(x_train.shape, x_test.shape, y_train.shape, y_test.shape)"
   ]
  },
  {
   "cell_type": "code",
   "execution_count": 81,
   "id": "420a1a14",
   "metadata": {},
   "outputs": [],
   "source": [
    "x_train_sm = sm.add_constant(x_train)"
   ]
  },
  {
   "cell_type": "code",
   "execution_count": 82,
   "id": "f575e096",
   "metadata": {},
   "outputs": [],
   "source": [
    "lm_multi_00 = sm.OLS(y_train, x_train_sm).fit()"
   ]
  },
  {
   "cell_type": "code",
   "execution_count": 83,
   "id": "96513265",
   "metadata": {},
   "outputs": [
    {
     "data": {
      "text/html": [
       "<table class=\"simpletable\">\n",
       "<caption>OLS Regression Results</caption>\n",
       "<tr>\n",
       "  <th>Dep. Variable:</th>          <td>price</td>      <th>  R-squared:         </th> <td>   0.724</td> \n",
       "</tr>\n",
       "<tr>\n",
       "  <th>Model:</th>                   <td>OLS</td>       <th>  Adj. R-squared:    </th> <td>   0.721</td> \n",
       "</tr>\n",
       "<tr>\n",
       "  <th>Method:</th>             <td>Least Squares</td>  <th>  F-statistic:       </th> <td>   261.1</td> \n",
       "</tr>\n",
       "<tr>\n",
       "  <th>Date:</th>             <td>Wed, 10 Aug 2022</td> <th>  Prob (F-statistic):</th> <td>5.76e-110</td>\n",
       "</tr>\n",
       "<tr>\n",
       "  <th>Time:</th>                 <td>01:32:14</td>     <th>  Log-Likelihood:    </th> <td> -1211.1</td> \n",
       "</tr>\n",
       "<tr>\n",
       "  <th>No. Observations:</th>      <td>   404</td>      <th>  AIC:               </th> <td>   2432.</td> \n",
       "</tr>\n",
       "<tr>\n",
       "  <th>Df Residuals:</th>          <td>   399</td>      <th>  BIC:               </th> <td>   2452.</td> \n",
       "</tr>\n",
       "<tr>\n",
       "  <th>Df Model:</th>              <td>     4</td>      <th>                     </th>     <td> </td>    \n",
       "</tr>\n",
       "<tr>\n",
       "  <th>Covariance Type:</th>      <td>nonrobust</td>    <th>                     </th>     <td> </td>    \n",
       "</tr>\n",
       "</table>\n",
       "<table class=\"simpletable\">\n",
       "<tr>\n",
       "       <td></td>         <th>coef</th>     <th>std err</th>      <th>t</th>      <th>P>|t|</th>  <th>[0.025</th>    <th>0.975]</th>  \n",
       "</tr>\n",
       "<tr>\n",
       "  <th>const</th>      <td>  -19.7703</td> <td>    4.405</td> <td>   -4.488</td> <td> 0.000</td> <td>  -28.431</td> <td>  -11.110</td>\n",
       "</tr>\n",
       "<tr>\n",
       "  <th>poor_prop</th>  <td>   -0.5622</td> <td>    0.049</td> <td>  -11.485</td> <td> 0.000</td> <td>   -0.658</td> <td>   -0.466</td>\n",
       "</tr>\n",
       "<tr>\n",
       "  <th>room_num</th>   <td>    4.2664</td> <td>    0.455</td> <td>    9.375</td> <td> 0.000</td> <td>    3.372</td> <td>    5.161</td>\n",
       "</tr>\n",
       "<tr>\n",
       "  <th>teachers</th>   <td>    1.1088</td> <td>    0.125</td> <td>    8.873</td> <td> 0.000</td> <td>    0.863</td> <td>    1.355</td>\n",
       "</tr>\n",
       "<tr>\n",
       "  <th>resid_area</th> <td>   -0.0308</td> <td>    0.045</td> <td>   -0.687</td> <td> 0.492</td> <td>   -0.119</td> <td>    0.057</td>\n",
       "</tr>\n",
       "</table>\n",
       "<table class=\"simpletable\">\n",
       "<tr>\n",
       "  <th>Omnibus:</th>       <td>148.634</td> <th>  Durbin-Watson:     </th> <td>   1.981</td> \n",
       "</tr>\n",
       "<tr>\n",
       "  <th>Prob(Omnibus):</th> <td> 0.000</td>  <th>  Jarque-Bera (JB):  </th> <td> 675.953</td> \n",
       "</tr>\n",
       "<tr>\n",
       "  <th>Skew:</th>          <td> 1.546</td>  <th>  Prob(JB):          </th> <td>1.65e-147</td>\n",
       "</tr>\n",
       "<tr>\n",
       "  <th>Kurtosis:</th>      <td> 8.531</td>  <th>  Cond. No.          </th> <td>    892.</td> \n",
       "</tr>\n",
       "</table><br/><br/>Notes:<br/>[1] Standard Errors assume that the covariance matrix of the errors is correctly specified."
      ],
      "text/plain": [
       "<class 'statsmodels.iolib.summary.Summary'>\n",
       "\"\"\"\n",
       "                            OLS Regression Results                            \n",
       "==============================================================================\n",
       "Dep. Variable:                  price   R-squared:                       0.724\n",
       "Model:                            OLS   Adj. R-squared:                  0.721\n",
       "Method:                 Least Squares   F-statistic:                     261.1\n",
       "Date:                Wed, 10 Aug 2022   Prob (F-statistic):          5.76e-110\n",
       "Time:                        01:32:14   Log-Likelihood:                -1211.1\n",
       "No. Observations:                 404   AIC:                             2432.\n",
       "Df Residuals:                     399   BIC:                             2452.\n",
       "Df Model:                           4                                         \n",
       "Covariance Type:            nonrobust                                         \n",
       "==============================================================================\n",
       "                 coef    std err          t      P>|t|      [0.025      0.975]\n",
       "------------------------------------------------------------------------------\n",
       "const        -19.7703      4.405     -4.488      0.000     -28.431     -11.110\n",
       "poor_prop     -0.5622      0.049    -11.485      0.000      -0.658      -0.466\n",
       "room_num       4.2664      0.455      9.375      0.000       3.372       5.161\n",
       "teachers       1.1088      0.125      8.873      0.000       0.863       1.355\n",
       "resid_area    -0.0308      0.045     -0.687      0.492      -0.119       0.057\n",
       "==============================================================================\n",
       "Omnibus:                      148.634   Durbin-Watson:                   1.981\n",
       "Prob(Omnibus):                  0.000   Jarque-Bera (JB):              675.953\n",
       "Skew:                           1.546   Prob(JB):                    1.65e-147\n",
       "Kurtosis:                       8.531   Cond. No.                         892.\n",
       "==============================================================================\n",
       "\n",
       "Notes:\n",
       "[1] Standard Errors assume that the covariance matrix of the errors is correctly specified.\n",
       "\"\"\""
      ]
     },
     "execution_count": 83,
     "metadata": {},
     "output_type": "execute_result"
    }
   ],
   "source": [
    "lm_multi_00.summary()"
   ]
  },
  {
   "cell_type": "code",
   "execution_count": 84,
   "id": "217cf8f0",
   "metadata": {},
   "outputs": [],
   "source": [
    "lm_multi_01 = LinearRegression()"
   ]
  },
  {
   "cell_type": "code",
   "execution_count": 85,
   "id": "1f5c3a54",
   "metadata": {},
   "outputs": [
    {
     "data": {
      "text/html": [
       "<style>#sk-container-id-3 {color: black;background-color: white;}#sk-container-id-3 pre{padding: 0;}#sk-container-id-3 div.sk-toggleable {background-color: white;}#sk-container-id-3 label.sk-toggleable__label {cursor: pointer;display: block;width: 100%;margin-bottom: 0;padding: 0.3em;box-sizing: border-box;text-align: center;}#sk-container-id-3 label.sk-toggleable__label-arrow:before {content: \"▸\";float: left;margin-right: 0.25em;color: #696969;}#sk-container-id-3 label.sk-toggleable__label-arrow:hover:before {color: black;}#sk-container-id-3 div.sk-estimator:hover label.sk-toggleable__label-arrow:before {color: black;}#sk-container-id-3 div.sk-toggleable__content {max-height: 0;max-width: 0;overflow: hidden;text-align: left;background-color: #f0f8ff;}#sk-container-id-3 div.sk-toggleable__content pre {margin: 0.2em;color: black;border-radius: 0.25em;background-color: #f0f8ff;}#sk-container-id-3 input.sk-toggleable__control:checked~div.sk-toggleable__content {max-height: 200px;max-width: 100%;overflow: auto;}#sk-container-id-3 input.sk-toggleable__control:checked~label.sk-toggleable__label-arrow:before {content: \"▾\";}#sk-container-id-3 div.sk-estimator input.sk-toggleable__control:checked~label.sk-toggleable__label {background-color: #d4ebff;}#sk-container-id-3 div.sk-label input.sk-toggleable__control:checked~label.sk-toggleable__label {background-color: #d4ebff;}#sk-container-id-3 input.sk-hidden--visually {border: 0;clip: rect(1px 1px 1px 1px);clip: rect(1px, 1px, 1px, 1px);height: 1px;margin: -1px;overflow: hidden;padding: 0;position: absolute;width: 1px;}#sk-container-id-3 div.sk-estimator {font-family: monospace;background-color: #f0f8ff;border: 1px dotted black;border-radius: 0.25em;box-sizing: border-box;margin-bottom: 0.5em;}#sk-container-id-3 div.sk-estimator:hover {background-color: #d4ebff;}#sk-container-id-3 div.sk-parallel-item::after {content: \"\";width: 100%;border-bottom: 1px solid gray;flex-grow: 1;}#sk-container-id-3 div.sk-label:hover label.sk-toggleable__label {background-color: #d4ebff;}#sk-container-id-3 div.sk-serial::before {content: \"\";position: absolute;border-left: 1px solid gray;box-sizing: border-box;top: 0;bottom: 0;left: 50%;z-index: 0;}#sk-container-id-3 div.sk-serial {display: flex;flex-direction: column;align-items: center;background-color: white;padding-right: 0.2em;padding-left: 0.2em;position: relative;}#sk-container-id-3 div.sk-item {position: relative;z-index: 1;}#sk-container-id-3 div.sk-parallel {display: flex;align-items: stretch;justify-content: center;background-color: white;position: relative;}#sk-container-id-3 div.sk-item::before, #sk-container-id-3 div.sk-parallel-item::before {content: \"\";position: absolute;border-left: 1px solid gray;box-sizing: border-box;top: 0;bottom: 0;left: 50%;z-index: -1;}#sk-container-id-3 div.sk-parallel-item {display: flex;flex-direction: column;z-index: 1;position: relative;background-color: white;}#sk-container-id-3 div.sk-parallel-item:first-child::after {align-self: flex-end;width: 50%;}#sk-container-id-3 div.sk-parallel-item:last-child::after {align-self: flex-start;width: 50%;}#sk-container-id-3 div.sk-parallel-item:only-child::after {width: 0;}#sk-container-id-3 div.sk-dashed-wrapped {border: 1px dashed gray;margin: 0 0.4em 0.5em 0.4em;box-sizing: border-box;padding-bottom: 0.4em;background-color: white;}#sk-container-id-3 div.sk-label label {font-family: monospace;font-weight: bold;display: inline-block;line-height: 1.2em;}#sk-container-id-3 div.sk-label-container {text-align: center;}#sk-container-id-3 div.sk-container {/* jupyter's `normalize.less` sets `[hidden] { display: none; }` but bootstrap.min.css set `[hidden] { display: none !important; }` so we also need the `!important` here to be able to override the default hidden behavior on the sphinx rendered scikit-learn.org. See: https://github.com/scikit-learn/scikit-learn/issues/21755 */display: inline-block !important;position: relative;}#sk-container-id-3 div.sk-text-repr-fallback {display: none;}</style><div id=\"sk-container-id-3\" class=\"sk-top-container\"><div class=\"sk-text-repr-fallback\"><pre>LinearRegression()</pre><b>In a Jupyter environment, please rerun this cell to show the HTML representation or trust the notebook. <br />On GitHub, the HTML representation is unable to render, please try loading this page with nbviewer.org.</b></div><div class=\"sk-container\" hidden><div class=\"sk-item\"><div class=\"sk-estimator sk-toggleable\"><input class=\"sk-toggleable__control sk-hidden--visually\" id=\"sk-estimator-id-3\" type=\"checkbox\" checked><label for=\"sk-estimator-id-3\" class=\"sk-toggleable__label sk-toggleable__label-arrow\">LinearRegression</label><div class=\"sk-toggleable__content\"><pre>LinearRegression()</pre></div></div></div></div></div>"
      ],
      "text/plain": [
       "LinearRegression()"
      ]
     },
     "execution_count": 85,
     "metadata": {},
     "output_type": "execute_result"
    }
   ],
   "source": [
    "lm_multi_01.fit(x_train, y_train)"
   ]
  },
  {
   "cell_type": "code",
   "execution_count": 86,
   "id": "b20cf128",
   "metadata": {},
   "outputs": [
    {
     "name": "stdout",
     "output_type": "stream",
     "text": [
      "-19.77030910791737 [-0.56215941  4.26642859  1.10884762 -0.0307742 ]\n"
     ]
    }
   ],
   "source": [
    "print(lm_multi_01.intercept_, lm_multi_01.coef_)"
   ]
  },
  {
   "cell_type": "code",
   "execution_count": 87,
   "id": "fd7f42e2",
   "metadata": {},
   "outputs": [
    {
     "data": {
      "text/plain": [
       "array([27.71417861, 21.86737557, 26.33509057, 12.41186958, 22.18142194,\n",
       "       20.25292178, 19.4611702 , 21.34151448, 17.06416322, 21.57274777,\n",
       "       14.52802266, 17.17722703, 17.75724238,  4.65419224, 38.96508054,\n",
       "       34.55577873, 21.29808982, 38.43796757, 30.06059551, 22.21555029,\n",
       "       25.06836502, 25.08157312, 18.44160905, 27.56045283, 22.10154714,\n",
       "        9.69226332, 17.79864946, 22.23829443, 35.6712962 , 19.99861083,\n",
       "       16.95676126, 18.38504354, 23.15790963, 24.13488786, 27.42034836,\n",
       "       17.23270595, 11.19873512, 20.77792704, 17.87143129, 13.44632576,\n",
       "       26.80751103, 20.33034762, 25.92404463, 13.66097086, 29.01129329,\n",
       "       25.96190933, 21.28844725, 24.40684125, 11.2104009 , 23.62675066,\n",
       "       24.56118504, 16.36893774, 23.14397323, 35.54743268, 14.31000276,\n",
       "       22.85716642, 22.09095322, 20.71977169, 19.58303238, 18.42932643,\n",
       "       24.04089378, 21.87729747, 32.67661773, 30.01554173, 16.78126825,\n",
       "       32.10728147, 19.13063053, 22.27454795, 18.81869016, 21.73276311,\n",
       "       22.58994307, 24.3231511 , 29.91476527, 30.76420028, 25.15191379,\n",
       "        4.05329796, 37.1403279 , 23.5324436 , 26.2429898 , 18.86553284,\n",
       "       29.14269472, 18.81277709, 17.81177251, 37.11457976, 38.79741237,\n",
       "       25.17225955, 23.53128668, 16.78749714, 30.37784281, 15.97468346,\n",
       "       16.94136026, 15.90534023, 27.72920906, 33.08281385, 21.30418161,\n",
       "       23.21100887, -2.98607678, 28.44348678, 18.35113104, 18.75937011,\n",
       "       24.63533207, 20.9451899 ])"
      ]
     },
     "execution_count": 87,
     "metadata": {},
     "output_type": "execute_result"
    }
   ],
   "source": [
    "lm_multi_01.predict(x_test)"
   ]
  },
  {
   "cell_type": "code",
   "execution_count": 88,
   "id": "19b33288",
   "metadata": {},
   "outputs": [],
   "source": [
    "y_test_pred = lm_multi_01.predict(x_test)"
   ]
  },
  {
   "cell_type": "code",
   "execution_count": 89,
   "id": "38a0b8fe",
   "metadata": {},
   "outputs": [],
   "source": [
    "from sklearn.metrics import r2_score"
   ]
  },
  {
   "cell_type": "code",
   "execution_count": 90,
   "id": "370e2db2",
   "metadata": {},
   "outputs": [
    {
     "data": {
      "text/plain": [
       "0.4894003509980598"
      ]
     },
     "execution_count": 90,
     "metadata": {},
     "output_type": "execute_result"
    }
   ],
   "source": [
    "r2_score(y_test, y_test_pred)"
   ]
  },
  {
   "cell_type": "markdown",
   "id": "51570493",
   "metadata": {},
   "source": [
    "# Conclusion"
   ]
  },
  {
   "cell_type": "markdown",
   "id": "0723ce85",
   "metadata": {},
   "source": [
    "The Regression model has the accuracy of about 49%"
   ]
  }
 ],
 "metadata": {
  "kernelspec": {
   "display_name": "Python 3 (ipykernel)",
   "language": "python",
   "name": "python3"
  },
  "language_info": {
   "codemirror_mode": {
    "name": "ipython",
    "version": 3
   },
   "file_extension": ".py",
   "mimetype": "text/x-python",
   "name": "python",
   "nbconvert_exporter": "python",
   "pygments_lexer": "ipython3",
   "version": "3.10.4"
  }
 },
 "nbformat": 4,
 "nbformat_minor": 5
}
